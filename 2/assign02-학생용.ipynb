{
  "cells": [
    {
      "cell_type": "code",
      "execution_count": 1,
      "metadata": {},
      "outputs": [
        {
          "ename": "ModuleNotFoundError",
          "evalue": "No module named 'matplotlib'",
          "output_type": "error",
          "traceback": [
            "\u001b[1;31m---------------------------------------------------------------------------\u001b[0m",
            "\u001b[1;31mModuleNotFoundError\u001b[0m                       Traceback (most recent call last)",
            "\u001b[1;32mc:\\Users\\석이\\Desktop\\대학교\\2학년 2학기\\인공지능\\과제\\2\\assign02-학생용.ipynb Cell 1\u001b[0m line \u001b[0;36m1\n\u001b[1;32m----> <a href='vscode-notebook-cell:/c%3A/Users/%EC%84%9D%EC%9D%B4/Desktop/%EB%8C%80%ED%95%99%EA%B5%90/2%ED%95%99%EB%85%84%202%ED%95%99%EA%B8%B0/%EC%9D%B8%EA%B3%B5%EC%A7%80%EB%8A%A5/%EA%B3%BC%EC%A0%9C/2/assign02-%ED%95%99%EC%83%9D%EC%9A%A9.ipynb#W0sZmlsZQ%3D%3D?line=0'>1</a>\u001b[0m \u001b[39mimport\u001b[39;00m \u001b[39mmatplotlib\u001b[39;00m\u001b[39m.\u001b[39;00m\u001b[39mpyplot\u001b[39;00m \u001b[39mas\u001b[39;00m \u001b[39mplt\u001b[39;00m\n\u001b[0;32m      <a href='vscode-notebook-cell:/c%3A/Users/%EC%84%9D%EC%9D%B4/Desktop/%EB%8C%80%ED%95%99%EA%B5%90/2%ED%95%99%EB%85%84%202%ED%95%99%EA%B8%B0/%EC%9D%B8%EA%B3%B5%EC%A7%80%EB%8A%A5/%EA%B3%BC%EC%A0%9C/2/assign02-%ED%95%99%EC%83%9D%EC%9A%A9.ipynb#W0sZmlsZQ%3D%3D?line=1'>2</a>\u001b[0m \u001b[39mimport\u001b[39;00m \u001b[39mnumpy\u001b[39;00m \u001b[39mas\u001b[39;00m \u001b[39mnp\u001b[39;00m\n",
            "\u001b[1;31mModuleNotFoundError\u001b[0m: No module named 'matplotlib'"
          ]
        }
      ],
      "source": [
        "import matplotlib.pyplot as plt\n",
        "import numpy as np"
      ]
    },
    {
      "cell_type": "markdown",
      "metadata": {
        "id": "qpgpGyzzU0wE"
      },
      "source": [
        "# 실습 1"
      ]
    },
    {
      "cell_type": "code",
      "execution_count": null,
      "metadata": {},
      "outputs": [],
      "source": [
        "def cal_distance(x, y):\n",
        "    pass\n",
        "\n",
        "x = np.array([-3, 2])\n",
        "y = np.array([3, 2])\n",
        "distance = cal_distance(x, y)\n",
        "\n",
        "# plot 코드를 작성하시오\n",
        "\n",
        "print(f'두 벡터 사이의 거리는 {distance}')"
      ]
    },
    {
      "cell_type": "markdown",
      "metadata": {},
      "source": [
        "# 실습 2"
      ]
    },
    {
      "cell_type": "code",
      "execution_count": null,
      "metadata": {},
      "outputs": [],
      "source": [
        "def cal_cos_theta(x, y):\n",
        "    pass\n",
        "\n",
        "x = np.array([-3, 2])\n",
        "y = np.array([3, 2])\n",
        "x_unit = \n",
        "y_unit = \n",
        "\n",
        "cos_theta_1 = cal_cos_theta(x, y)\n",
        "cos_theta_2 = cal_cos_theta(x_unit, y_unit)\n",
        "\n",
        "# plot 코드를 작성하시오\n",
        "\n",
        "print(f'x, y 사이의 cos theta 값은 {cos_theta_1}')\n",
        "print(f'x_, y_ 사이의 cos theta 값은 {cos_theta_2}')"
      ]
    },
    {
      "cell_type": "markdown",
      "metadata": {},
      "source": [
        "# 실습 3"
      ]
    },
    {
      "cell_type": "code",
      "execution_count": null,
      "metadata": {},
      "outputs": [],
      "source": [
        "def projection(origin_v, target_v) :\n",
        "    pass\n",
        "\n",
        "origin_v = np.array([3, 4])\n",
        "target_v = np.array([4, 0])\n",
        "proj_v = projection(origin_v, target_v)\n",
        "\n",
        "# plot 코드를 작성하시오\n",
        "\n",
        "print(f'origin_vector:', origin_v)\n",
        "print(f'target_vector:', target_v)\n",
        "print(f'projected vector: ', proj_v)"
      ]
    }
  ],
  "metadata": {
    "colab": {
      "provenance": []
    },
    "kernelspec": {
      "display_name": "ml",
      "language": "python",
      "name": "python3"
    },
    "language_info": {
      "codemirror_mode": {
        "name": "ipython",
        "version": 3
      },
      "file_extension": ".py",
      "mimetype": "text/x-python",
      "name": "python",
      "nbconvert_exporter": "python",
      "pygments_lexer": "ipython3",
      "version": "3.11.4"
    },
    "vscode": {
      "interpreter": {
        "hash": "ac989702ee82cf85834fc904c407af640e06b0902e988e9cd8a067d885b3b790"
      }
    }
  },
  "nbformat": 4,
  "nbformat_minor": 0
}
