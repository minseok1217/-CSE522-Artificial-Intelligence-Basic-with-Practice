{
  "cells": [
    {
      "cell_type": "markdown",
      "metadata": {},
      "source": [
        "# 실습 1. 접평면 그리기"
      ]
    },
    {
      "cell_type": "code",
      "execution_count": null,
      "metadata": {},
      "outputs": [],
      "source": [
        "import numpy as np\n",
        "import matplotlib.pyplot as plt\n",
        "\n",
        "DELTA_X = 1e-5\n",
        "\n",
        "def partial_derivative(f, tan_point, h=DELTA_X):\n",
        "    pass\n",
        "\n",
        "def plot_tan_plane(f,tan_point,interval):\n",
        "    x_space = np.linspace(*interval, 100)\n",
        "    y_space = np.linspace(*interval, 100)\n",
        "    X, Y = np.meshgrid(x_space, y_space)\n",
        "    Z = f(X, Y)\n",
        "    \n",
        "    # derivative\n",
        "    df_dx, df_dy = partial_derivative(f, tan_point)\n",
        "    tan_plane = None\n",
        "    \n",
        "    # Create separate 3D plots for each function\n",
        "    fig = plt.figure(figsize=(12, 6))\n",
        "\n",
        "    # plot    \n",
        "    ax1 = fig.add_subplot(111, projection='3d')\n",
        "    ax1.plot_surface(X, Y, Z, cmap='viridis', alpha=0.7)\n",
        "    ax1.plot_surface(X, Y, tan_plane, cmap='Reds', alpha=0.5)\n",
        "    ax1.scatter(tan_point[0], tan_point[1], f(tan_point[0], tan_point[1]), marker='s', color='black', s=10)\n",
        "    ax1.set_xlabel('x')\n",
        "    ax1.set_ylabel('y')\n",
        "    ax1.set_zlabel('z')\n",
        "    \n",
        "    plt.tight_layout()\n",
        "    plt.show()"
      ]
    },
    {
      "cell_type": "code",
      "execution_count": null,
      "metadata": {},
      "outputs": [],
      "source": [
        "def func(x,y):\n",
        "    return x**2 + y**2"
      ]
    },
    {
      "cell_type": "code",
      "execution_count": null,
      "metadata": {},
      "outputs": [],
      "source": [
        "plot_tan_plane(func, (0,0), (-5, 5))"
      ]
    },
    {
      "cell_type": "markdown",
      "metadata": {},
      "source": [
        "# 2. 최적화 문제"
      ]
    },
    {
      "cell_type": "code",
      "execution_count": null,
      "metadata": {},
      "outputs": [],
      "source": [
        "def func(x,y):\n",
        "    return -x**4-y**4+x**3+3*x**2+y**2+(x*y)**2"
      ]
    },
    {
      "cell_type": "code",
      "execution_count": null,
      "metadata": {},
      "outputs": [],
      "source": [
        "EPSILON=1e-7\n",
        "\n",
        "def gradient_ascent(xy_start):\n",
        "    pass\n",
        "\n",
        "xy_start = (0,0)\n",
        "best_xy = gradient_ascent(xy_start)\n",
        "\n",
        "print('[best_xy] : ', best_xy)\n",
        "print('[best_performance] : ', func(best_xy[0],best_xy[1]))\n",
        "plot_tan_plane(func, best_xy, (-3, 3))"
      ]
    },
    {
      "cell_type": "markdown",
      "metadata": {},
      "source": [
        "# 3. Hessian matrix를 구하고, local minimum인지 확인"
      ]
    }
  ],
  "metadata": {
    "colab": {
      "provenance": []
    },
    "kernelspec": {
      "display_name": "ml",
      "language": "python",
      "name": "python3"
    },
    "language_info": {
      "codemirror_mode": {
        "name": "ipython",
        "version": 3
      },
      "file_extension": ".py",
      "mimetype": "text/x-python",
      "name": "python",
      "nbconvert_exporter": "python",
      "pygments_lexer": "ipython3",
      "version": "3.8.16"
    },
    "vscode": {
      "interpreter": {
        "hash": "ac989702ee82cf85834fc904c407af640e06b0902e988e9cd8a067d885b3b790"
      }
    }
  },
  "nbformat": 4,
  "nbformat_minor": 0
}
