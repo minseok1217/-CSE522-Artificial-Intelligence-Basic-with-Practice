{
 "cells": [
  {
   "cell_type": "markdown",
   "metadata": {},
   "source": [
    "## 데이터 읽기"
   ]
  },
  {
   "cell_type": "markdown",
   "metadata": {},
   "source": [
    "# Exam - 2"
   ]
  },
  {
   "cell_type": "markdown",
   "metadata": {},
   "source": [
    "1. Q1\n",
    "    * 3 questions * 4 points\n",
    "\n",
    "1. Q2\n",
    "    * 3 questions * 4 points\n",
    "\n",
    "1. Q3\n",
    "    * 2 questions * 4 points\n",
    "    \n",
    "1. Q4\n",
    "    * 2 questions * 4 points\n",
    "\n",
    "1. Q5\n",
    "    * 1 question * 4 points\n",
    "\n",
    "1. Q6\n",
    "    * 2 questions * 4 points"
   ]
  },
  {
   "cell_type": "code",
   "execution_count": 1,
   "metadata": {},
   "outputs": [
    {
     "data": {
      "text/html": [
       "<div>\n",
       "<style scoped>\n",
       "    .dataframe tbody tr th:only-of-type {\n",
       "        vertical-align: middle;\n",
       "    }\n",
       "\n",
       "    .dataframe tbody tr th {\n",
       "        vertical-align: top;\n",
       "    }\n",
       "\n",
       "    .dataframe thead th {\n",
       "        text-align: right;\n",
       "    }\n",
       "</style>\n",
       "<table border=\"1\" class=\"dataframe\">\n",
       "  <thead>\n",
       "    <tr style=\"text-align: right;\">\n",
       "      <th></th>\n",
       "      <th>school</th>\n",
       "      <th>sex</th>\n",
       "      <th>age</th>\n",
       "      <th>address</th>\n",
       "      <th>famsize</th>\n",
       "      <th>Pstatus</th>\n",
       "      <th>Medu</th>\n",
       "      <th>Fedu</th>\n",
       "      <th>Mjob</th>\n",
       "      <th>Fjob</th>\n",
       "      <th>...</th>\n",
       "      <th>famrel</th>\n",
       "      <th>freetime</th>\n",
       "      <th>goout</th>\n",
       "      <th>Dalc</th>\n",
       "      <th>Walc</th>\n",
       "      <th>health</th>\n",
       "      <th>absences</th>\n",
       "      <th>G1</th>\n",
       "      <th>G2</th>\n",
       "      <th>G3</th>\n",
       "    </tr>\n",
       "  </thead>\n",
       "  <tbody>\n",
       "    <tr>\n",
       "      <th>0</th>\n",
       "      <td>GP</td>\n",
       "      <td>F</td>\n",
       "      <td>18</td>\n",
       "      <td>U</td>\n",
       "      <td>GT3</td>\n",
       "      <td>A</td>\n",
       "      <td>4</td>\n",
       "      <td>4</td>\n",
       "      <td>at_home</td>\n",
       "      <td>teacher</td>\n",
       "      <td>...</td>\n",
       "      <td>4</td>\n",
       "      <td>3</td>\n",
       "      <td>4</td>\n",
       "      <td>1</td>\n",
       "      <td>1</td>\n",
       "      <td>3</td>\n",
       "      <td>6</td>\n",
       "      <td>5</td>\n",
       "      <td>6</td>\n",
       "      <td>6</td>\n",
       "    </tr>\n",
       "    <tr>\n",
       "      <th>1</th>\n",
       "      <td>GP</td>\n",
       "      <td>F</td>\n",
       "      <td>17</td>\n",
       "      <td>U</td>\n",
       "      <td>GT3</td>\n",
       "      <td>T</td>\n",
       "      <td>1</td>\n",
       "      <td>1</td>\n",
       "      <td>at_home</td>\n",
       "      <td>other</td>\n",
       "      <td>...</td>\n",
       "      <td>5</td>\n",
       "      <td>3</td>\n",
       "      <td>3</td>\n",
       "      <td>1</td>\n",
       "      <td>1</td>\n",
       "      <td>3</td>\n",
       "      <td>4</td>\n",
       "      <td>5</td>\n",
       "      <td>5</td>\n",
       "      <td>6</td>\n",
       "    </tr>\n",
       "    <tr>\n",
       "      <th>2</th>\n",
       "      <td>GP</td>\n",
       "      <td>F</td>\n",
       "      <td>15</td>\n",
       "      <td>U</td>\n",
       "      <td>LE3</td>\n",
       "      <td>T</td>\n",
       "      <td>1</td>\n",
       "      <td>1</td>\n",
       "      <td>at_home</td>\n",
       "      <td>other</td>\n",
       "      <td>...</td>\n",
       "      <td>4</td>\n",
       "      <td>3</td>\n",
       "      <td>2</td>\n",
       "      <td>2</td>\n",
       "      <td>3</td>\n",
       "      <td>3</td>\n",
       "      <td>10</td>\n",
       "      <td>7</td>\n",
       "      <td>8</td>\n",
       "      <td>10</td>\n",
       "    </tr>\n",
       "    <tr>\n",
       "      <th>3</th>\n",
       "      <td>GP</td>\n",
       "      <td>F</td>\n",
       "      <td>15</td>\n",
       "      <td>U</td>\n",
       "      <td>GT3</td>\n",
       "      <td>T</td>\n",
       "      <td>4</td>\n",
       "      <td>2</td>\n",
       "      <td>health</td>\n",
       "      <td>services</td>\n",
       "      <td>...</td>\n",
       "      <td>3</td>\n",
       "      <td>2</td>\n",
       "      <td>2</td>\n",
       "      <td>1</td>\n",
       "      <td>1</td>\n",
       "      <td>5</td>\n",
       "      <td>2</td>\n",
       "      <td>15</td>\n",
       "      <td>14</td>\n",
       "      <td>15</td>\n",
       "    </tr>\n",
       "    <tr>\n",
       "      <th>4</th>\n",
       "      <td>GP</td>\n",
       "      <td>F</td>\n",
       "      <td>16</td>\n",
       "      <td>U</td>\n",
       "      <td>GT3</td>\n",
       "      <td>T</td>\n",
       "      <td>3</td>\n",
       "      <td>3</td>\n",
       "      <td>other</td>\n",
       "      <td>other</td>\n",
       "      <td>...</td>\n",
       "      <td>4</td>\n",
       "      <td>3</td>\n",
       "      <td>2</td>\n",
       "      <td>1</td>\n",
       "      <td>2</td>\n",
       "      <td>5</td>\n",
       "      <td>4</td>\n",
       "      <td>6</td>\n",
       "      <td>10</td>\n",
       "      <td>10</td>\n",
       "    </tr>\n",
       "    <tr>\n",
       "      <th>...</th>\n",
       "      <td>...</td>\n",
       "      <td>...</td>\n",
       "      <td>...</td>\n",
       "      <td>...</td>\n",
       "      <td>...</td>\n",
       "      <td>...</td>\n",
       "      <td>...</td>\n",
       "      <td>...</td>\n",
       "      <td>...</td>\n",
       "      <td>...</td>\n",
       "      <td>...</td>\n",
       "      <td>...</td>\n",
       "      <td>...</td>\n",
       "      <td>...</td>\n",
       "      <td>...</td>\n",
       "      <td>...</td>\n",
       "      <td>...</td>\n",
       "      <td>...</td>\n",
       "      <td>...</td>\n",
       "      <td>...</td>\n",
       "      <td>...</td>\n",
       "    </tr>\n",
       "    <tr>\n",
       "      <th>390</th>\n",
       "      <td>MS</td>\n",
       "      <td>M</td>\n",
       "      <td>20</td>\n",
       "      <td>U</td>\n",
       "      <td>LE3</td>\n",
       "      <td>A</td>\n",
       "      <td>2</td>\n",
       "      <td>2</td>\n",
       "      <td>services</td>\n",
       "      <td>services</td>\n",
       "      <td>...</td>\n",
       "      <td>5</td>\n",
       "      <td>5</td>\n",
       "      <td>4</td>\n",
       "      <td>4</td>\n",
       "      <td>5</td>\n",
       "      <td>4</td>\n",
       "      <td>11</td>\n",
       "      <td>9</td>\n",
       "      <td>9</td>\n",
       "      <td>9</td>\n",
       "    </tr>\n",
       "    <tr>\n",
       "      <th>391</th>\n",
       "      <td>MS</td>\n",
       "      <td>M</td>\n",
       "      <td>17</td>\n",
       "      <td>U</td>\n",
       "      <td>LE3</td>\n",
       "      <td>T</td>\n",
       "      <td>3</td>\n",
       "      <td>1</td>\n",
       "      <td>services</td>\n",
       "      <td>services</td>\n",
       "      <td>...</td>\n",
       "      <td>2</td>\n",
       "      <td>4</td>\n",
       "      <td>5</td>\n",
       "      <td>3</td>\n",
       "      <td>4</td>\n",
       "      <td>2</td>\n",
       "      <td>3</td>\n",
       "      <td>14</td>\n",
       "      <td>16</td>\n",
       "      <td>16</td>\n",
       "    </tr>\n",
       "    <tr>\n",
       "      <th>392</th>\n",
       "      <td>MS</td>\n",
       "      <td>M</td>\n",
       "      <td>21</td>\n",
       "      <td>R</td>\n",
       "      <td>GT3</td>\n",
       "      <td>T</td>\n",
       "      <td>1</td>\n",
       "      <td>1</td>\n",
       "      <td>other</td>\n",
       "      <td>other</td>\n",
       "      <td>...</td>\n",
       "      <td>5</td>\n",
       "      <td>5</td>\n",
       "      <td>3</td>\n",
       "      <td>3</td>\n",
       "      <td>3</td>\n",
       "      <td>3</td>\n",
       "      <td>3</td>\n",
       "      <td>10</td>\n",
       "      <td>8</td>\n",
       "      <td>7</td>\n",
       "    </tr>\n",
       "    <tr>\n",
       "      <th>393</th>\n",
       "      <td>MS</td>\n",
       "      <td>M</td>\n",
       "      <td>18</td>\n",
       "      <td>R</td>\n",
       "      <td>LE3</td>\n",
       "      <td>T</td>\n",
       "      <td>3</td>\n",
       "      <td>2</td>\n",
       "      <td>services</td>\n",
       "      <td>other</td>\n",
       "      <td>...</td>\n",
       "      <td>4</td>\n",
       "      <td>4</td>\n",
       "      <td>1</td>\n",
       "      <td>3</td>\n",
       "      <td>4</td>\n",
       "      <td>5</td>\n",
       "      <td>0</td>\n",
       "      <td>11</td>\n",
       "      <td>12</td>\n",
       "      <td>10</td>\n",
       "    </tr>\n",
       "    <tr>\n",
       "      <th>394</th>\n",
       "      <td>MS</td>\n",
       "      <td>M</td>\n",
       "      <td>19</td>\n",
       "      <td>U</td>\n",
       "      <td>LE3</td>\n",
       "      <td>T</td>\n",
       "      <td>1</td>\n",
       "      <td>1</td>\n",
       "      <td>other</td>\n",
       "      <td>at_home</td>\n",
       "      <td>...</td>\n",
       "      <td>3</td>\n",
       "      <td>2</td>\n",
       "      <td>3</td>\n",
       "      <td>3</td>\n",
       "      <td>3</td>\n",
       "      <td>5</td>\n",
       "      <td>5</td>\n",
       "      <td>8</td>\n",
       "      <td>9</td>\n",
       "      <td>9</td>\n",
       "    </tr>\n",
       "  </tbody>\n",
       "</table>\n",
       "<p>395 rows × 33 columns</p>\n",
       "</div>"
      ],
      "text/plain": [
       "    school sex  age address famsize Pstatus  Medu  Fedu      Mjob      Fjob  \\\n",
       "0       GP   F   18       U     GT3       A     4     4   at_home   teacher   \n",
       "1       GP   F   17       U     GT3       T     1     1   at_home     other   \n",
       "2       GP   F   15       U     LE3       T     1     1   at_home     other   \n",
       "3       GP   F   15       U     GT3       T     4     2    health  services   \n",
       "4       GP   F   16       U     GT3       T     3     3     other     other   \n",
       "..     ...  ..  ...     ...     ...     ...   ...   ...       ...       ...   \n",
       "390     MS   M   20       U     LE3       A     2     2  services  services   \n",
       "391     MS   M   17       U     LE3       T     3     1  services  services   \n",
       "392     MS   M   21       R     GT3       T     1     1     other     other   \n",
       "393     MS   M   18       R     LE3       T     3     2  services     other   \n",
       "394     MS   M   19       U     LE3       T     1     1     other   at_home   \n",
       "\n",
       "     ... famrel freetime  goout  Dalc  Walc health absences  G1  G2  G3  \n",
       "0    ...      4        3      4     1     1      3        6   5   6   6  \n",
       "1    ...      5        3      3     1     1      3        4   5   5   6  \n",
       "2    ...      4        3      2     2     3      3       10   7   8  10  \n",
       "3    ...      3        2      2     1     1      5        2  15  14  15  \n",
       "4    ...      4        3      2     1     2      5        4   6  10  10  \n",
       "..   ...    ...      ...    ...   ...   ...    ...      ...  ..  ..  ..  \n",
       "390  ...      5        5      4     4     5      4       11   9   9   9  \n",
       "391  ...      2        4      5     3     4      2        3  14  16  16  \n",
       "392  ...      5        5      3     3     3      3        3  10   8   7  \n",
       "393  ...      4        4      1     3     4      5        0  11  12  10  \n",
       "394  ...      3        2      3     3     3      5        5   8   9   9  \n",
       "\n",
       "[395 rows x 33 columns]"
      ]
     },
     "execution_count": 1,
     "metadata": {},
     "output_type": "execute_result"
    }
   ],
   "source": [
    "import pandas as pd\n",
    "import numpy as np\n",
    "import math\n",
    "\n",
    "data = pd.read_table(\"student-mat.csv\",sep=\";\",header=0)\n",
    "data"
   ]
  },
  {
   "cell_type": "markdown",
   "metadata": {},
   "source": [
    "### numerical 변수와 categorical 변수 분리"
   ]
  },
  {
   "cell_type": "code",
   "execution_count": 2,
   "metadata": {},
   "outputs": [
    {
     "name": "stdout",
     "output_type": "stream",
     "text": [
      "numerical = ['age', 'Medu', 'Fedu', 'traveltime', 'studytime', 'failures', 'famrel', 'freetime', 'goout', 'Dalc', 'Walc', 'health', 'absences', 'G1', 'G2', 'G3']\n",
      "categorical = ['school', 'sex', 'address', 'famsize', 'Pstatus', 'Mjob', 'Fjob', 'reason', 'guardian', 'schoolsup', 'famsup', 'paid', 'activities', 'nursery', 'higher', 'internet', 'romantic']\n"
     ]
    }
   ],
   "source": [
    "numerical  = ['age', 'Medu', 'Fedu', 'traveltime', 'studytime', 'failures', 'famrel', 'freetime', 'goout', 'Dalc', 'Walc', 'health', 'absences', 'G1', 'G2', 'G3']\n",
    "categorical = []\n",
    "\n",
    "for f in data.columns:\n",
    "    if f not in numerical:\n",
    "        categorical.append(f)\n",
    "    v = data[f].value_counts().sort_index()\n",
    "    # print(f'{v.name} = {v.index.values}')\n",
    "    \n",
    "print(f'numerical = {numerical}')\n",
    "print(f'categorical = {categorical}')"
   ]
  },
  {
   "cell_type": "code",
   "execution_count": 3,
   "metadata": {},
   "outputs": [
    {
     "name": "stdout",
     "output_type": "stream",
     "text": [
      "age = [16 17 18 15 19 20 22 21]\n",
      "Medu = [4 2 3 1 0]\n",
      "Fedu = [2 3 4 1 0]\n",
      "traveltime = [1 2 3 4]\n",
      "studytime = [2 1 3 4]\n",
      "failures = [0 1 2 3]\n",
      "famrel = [4 5 3 2 1]\n",
      "freetime = [3 4 2 5 1]\n",
      "goout = [3 2 4 5 1]\n",
      "Dalc = [1 2 3 5 4]\n",
      "Walc = [1 2 3 4 5]\n",
      "health = [5 3 4 1 2]\n",
      "absences = [ 0  2  4  6  8 10 14 12  3 16  7  5 18 20 11  9 13 15 22  1 38 30 40 23\n",
      " 19 28 75 21 24 56 26 54 25 17]\n",
      "G1 = [10  8 11  7 12 13  9 14 15  6 16 18 17  5 19  4  3]\n",
      "G2 = [ 9 10 12 13 11 15  8 14  7  5  6 16  0 18 17 19  4]\n",
      "G3 = [10 11  0 15  8 13 12  9 14 16  6 18  7  5 17 19 20  4]\n",
      "school = ['GP' 'MS']\n",
      "sex = ['F' 'M']\n",
      "address = ['U' 'R']\n",
      "famsize = ['GT3' 'LE3']\n",
      "Pstatus = ['T' 'A']\n",
      "Mjob = ['other' 'services' 'at_home' 'teacher' 'health']\n",
      "Fjob = ['other' 'services' 'teacher' 'at_home' 'health']\n",
      "reason = ['course' 'home' 'reputation' 'other']\n",
      "guardian = ['mother' 'father' 'other']\n",
      "schoolsup = ['no' 'yes']\n",
      "famsup = ['yes' 'no']\n",
      "paid = ['no' 'yes']\n",
      "activities = ['yes' 'no']\n",
      "nursery = ['yes' 'no']\n",
      "higher = ['yes' 'no']\n",
      "internet = ['yes' 'no']\n",
      "romantic = ['no' 'yes']\n"
     ]
    }
   ],
   "source": [
    "for f in numerical + categorical:\n",
    "    v = data[f].value_counts()\n",
    "    print(f'{f} = {v.index.values}')"
   ]
  },
  {
   "cell_type": "markdown",
   "metadata": {},
   "source": [
    "### 데이터 저장을 위한 자료 구조 (Counter, CounterMap)"
   ]
  },
  {
   "cell_type": "code",
   "execution_count": 4,
   "metadata": {},
   "outputs": [],
   "source": [
    "class Counter(dict):\n",
    "    def __init__(self, c=None):\n",
    "        if c is not None:\n",
    "            for k, v in c.items():\n",
    "                self.increment(k, v)\n",
    "        \n",
    "    def increment(self, k, v=1):\n",
    "        o = self.get(k)\n",
    "        \n",
    "        if o == None:\n",
    "            self[k] = v\n",
    "        else:\n",
    "            self[k] = o + v\n",
    "\n",
    "    def increment_counter(self, c):\n",
    "        for k, v in c.items():\n",
    "            self.increment(k,v)\n",
    "    \n",
    "    def scale(self, c):\n",
    "        for k, v in self.items():\n",
    "            self[k] = v * c * 1.0\n",
    "    \n",
    "    def normalize(self):\n",
    "        self.scale(1.0 / self.sum())\n",
    "    \n",
    "    def get(self, k):\n",
    "        r = super().get(k)\n",
    "        if r == None:\n",
    "            r = 0\n",
    "        return r\n",
    "            \n",
    "    def sum(self):\n",
    "        r = 0\n",
    "        for k, v in self.items():\n",
    "            r += v\n",
    "        return r\n",
    "            \n",
    "class CounterMap(dict):\n",
    "    def __init__(self, cm=None):\n",
    "        if cm != None:\n",
    "            self.increment_countermap(cm)\n",
    "\n",
    "    def ensure(self, k):\n",
    "        r = self.get(k)\n",
    "        if r == None:\n",
    "            r = Counter()\n",
    "            self[k] = r\n",
    "        return r\n",
    "    \n",
    "    def get_value(self, k, o):\n",
    "        r = 0\n",
    "        c = self.get(k)\n",
    "        if c != None:\n",
    "            r = c.get(o)\n",
    "        return r\n",
    "\n",
    "    def increment(self, k, o, v=1):\n",
    "        self.ensure(k).increment(o, v)\n",
    "\n",
    "    def increment_countermap(self, cm):\n",
    "        for k, c in cm.items():\n",
    "            for o, v in c.items():\n",
    "                self.increment(k, o, v)\n",
    "                \n",
    "    def normalize(self):\n",
    "        for k, v in self.items():\n",
    "            v.normalize()\n",
    "            \n",
    "    def dot_product(self, c):\n",
    "        r = 0.0\n",
    "        large, small = self, c\n",
    "        \n",
    "        if len(large) < len(small):\n",
    "            large, small = c, self\n",
    "        \n",
    "        for k, v1 in small.items():\n",
    "            v2 = large.get(k)\n",
    "            if v2 != None:\n",
    "                r += v1 * v2\n",
    "        return r"
   ]
  },
  {
   "cell_type": "code",
   "execution_count": 5,
   "metadata": {},
   "outputs": [
    {
     "name": "stdout",
     "output_type": "stream",
     "text": [
      "{'a': 2, 'b': 2, 'c': 7, 'd': 1}\n",
      "sum = 12\n",
      "{'a': 0.16666666666666666, 'b': 0.16666666666666666, 'c': 0.5833333333333333, 'd': 0.08333333333333333}\n",
      "0.16666666666666666\n",
      "k=a, v=0.16666666666666666\n",
      "k=b, v=0.16666666666666666\n",
      "k=c, v=0.5833333333333333\n",
      "k=d, v=0.08333333333333333\n"
     ]
    }
   ],
   "source": [
    "c = Counter()\n",
    "c.increment('a', 1)\n",
    "c.increment('a')\n",
    "c.increment('b', 2)\n",
    "c.increment('c', 3)\n",
    "c.increment('c', 4)\n",
    "c.increment('d')\n",
    "\n",
    "print(c)\n",
    "print(f'sum = {c.sum()}')\n",
    "\n",
    "c.normalize()\n",
    "print(c)\n",
    "print(c.get('a'))\n",
    "\n",
    "for k, v in c.items():\n",
    "    print(f'k={k}, v={v}')"
   ]
  },
  {
   "cell_type": "code",
   "execution_count": 6,
   "metadata": {},
   "outputs": [
    {
     "name": "stdout",
     "output_type": "stream",
     "text": [
      "{'a': {1: 1}}\n",
      "{'a': {1: 1, 3: 2, 2: 5}, 'b': {3: 6}, 'c': {0: 1}}\n",
      "{'a': {1: 0.125, 3: 0.25, 2: 0.625}, 'b': {3: 1.0}, 'c': {0: 1.0}}\n",
      "k=a, o=1, v=0.125\n",
      "k=a, o=3, v=0.25\n",
      "k=a, o=2, v=0.625\n",
      "k=b, o=3, v=1.0\n",
      "k=c, o=0, v=1.0\n"
     ]
    }
   ],
   "source": [
    "cm = CounterMap()\n",
    "\n",
    "cm.increment('a',1)\n",
    "print(cm)\n",
    "cm.increment('a',3, 2)\n",
    "cm.increment('a',2, 5)\n",
    "cm.increment('b',3, 4)\n",
    "cm.increment('b',3, 2)\n",
    "cm.increment('c',0, 1)\n",
    "\n",
    "print(cm)\n",
    "cm.normalize()\n",
    "print(cm)\n",
    "\n",
    "for k, c in cm.items():\n",
    "    for o, v in c.items():\n",
    "        print(f'k={k}, o={o}, v={v}')"
   ]
  },
  {
   "cell_type": "markdown",
   "metadata": {},
   "source": [
    "## Tutorial"
   ]
  },
  {
   "cell_type": "code",
   "execution_count": 7,
   "metadata": {},
   "outputs": [],
   "source": [
    "# 정답 확인을 위한 코드\n",
    "import pickle\n",
    "\n",
    "with open('answer.p', 'rb') as f:\n",
    "\tanswer = pickle.load(f) # 정답이 저장된 변수\n",
    "\n",
    "my_answer = {} # 제출할 답을 저장하는 변수\n",
    "# check\n",
    "def check(msg, my_answer, answer):\n",
    "    flag = True\n",
    "    eps = 1e-3\n",
    "    if isinstance(my_answer, dict):\n",
    "        if my_answer == {} :\n",
    "            flag = False\n",
    "        for k1, v1 in my_answer.items():\n",
    "            if isinstance(v1, dict):\n",
    "                if v1 == {}:\n",
    "                    flag = False\n",
    "                for k2, v2 in v1.items():\n",
    "                    if isinstance(v2, float) or isinstance(v2, int):\n",
    "                        flag = abs(answer[k1][k2]-v2)<eps\n",
    "                    else:\n",
    "                        flag = False\n",
    "            elif isinstance(v1, list):\n",
    "                flag = answer[k1]==v1\n",
    "            elif isinstance(v1, float) or isinstance(v1, int):\n",
    "                flag = abs(answer[k1]-v1)<eps\n",
    "            else:\n",
    "                flag = False\n",
    "    elif isinstance(my_answer, list) or isinstance(my_answer, bool):\n",
    "        flag = my_answer==answer\n",
    "    elif isinstance(my_answer, float) or isinstance(my_answer, int):\n",
    "        flag = abs(my_answer-answer)<eps\n",
    "    else:\n",
    "        flag = False\n",
    "    print(f'[{msg}] Your answer is [{flag}]')\n",
    "    return flag"
   ]
  },
  {
   "cell_type": "markdown",
   "metadata": {},
   "source": [
    "### Check"
   ]
  },
  {
   "cell_type": "code",
   "execution_count": 8,
   "metadata": {},
   "outputs": [
    {
     "name": "stdout",
     "output_type": "stream",
     "text": [
      "[1+1] Your answer is [True]\n",
      "My answer:  2\n",
      "Answer:  2\n"
     ]
    }
   ],
   "source": [
    "# 1+1 = ?\n",
    "check_list = ['1+1'] # 평가 항목 (수정 x)\n",
    "\n",
    "#### YOUR CODE - START ####\n",
    "my_answer['1+1'] = 2\n",
    "#### YOUR CODE - END ####\n",
    "\n",
    "for c in check_list:\n",
    "    check(c, my_answer[c], answer[c])\n",
    "    print('My answer: ', my_answer[c])\n",
    "    print('Answer: ', answer[c])"
   ]
  },
  {
   "cell_type": "markdown",
   "metadata": {},
   "source": [
    "## Questions"
   ]
  },
  {
   "cell_type": "markdown",
   "metadata": {},
   "source": [
    "### Q1"
   ]
  },
  {
   "cell_type": "code",
   "execution_count": 9,
   "metadata": {},
   "outputs": [
    {
     "name": "stdout",
     "output_type": "stream",
     "text": [
      "{18: [0, 128, 150, 157, 213, 217, 223, 225, 228, 239, 244, 248, 250, 252, 258, 260, 261, 262, 264, 265, 267, 268, 269, 271, 272, 276, 277, 278, 279, 282, 283, 286, 288, 289, 290, 292, 294, 297, 298, 299, 300, 305, 316, 317, 319, 325, 330, 332, 333, 334, 338, 341, 342, 344, 345, 346, 347, 349, 352, 355, 358, 359, 360, 361, 362, 365, 366, 368, 369, 371, 374, 375, 377, 378, 380, 381, 384, 385, 386, 388, 389, 393], 17: [1, 7, 18, 78, 118, 132, 136, 144, 154, 156, 160, 163, 164, 172, 175, 177, 179, 182, 183, 185, 188, 189, 191, 192, 195, 196, 198, 202, 203, 205, 209, 211, 214, 215, 216, 218, 219, 220, 221, 226, 227, 229, 230, 231, 232, 236, 238, 240, 241, 246, 254, 255, 256, 259, 263, 266, 273, 274, 275, 280, 281, 284, 285, 287, 291, 293, 295, 301, 302, 303, 318, 320, 321, 322, 323, 324, 326, 327, 328, 329, 331, 335, 337, 339, 343, 348, 351, 354, 356, 357, 363, 364, 367, 372, 373, 379, 382, 391], 15: [2, 3, 8, 9, 10, 11, 12, 13, 14, 20, 21, 24, 26, 27, 30, 31, 32, 33, 35, 36, 38, 39, 41, 42, 43, 45, 48, 49, 51, 52, 53, 54, 56, 57, 58, 64, 66, 68, 69, 71, 72, 75, 76, 80, 81, 82, 83, 84, 85, 87, 91, 94, 95, 102, 103, 104, 105, 106, 108, 110, 113, 114, 116, 119, 120, 121, 125, 126, 130, 131, 134, 135, 139, 140, 142, 145, 146, 147, 149, 152, 155, 161], 16: [4, 5, 6, 15, 16, 17, 19, 22, 23, 25, 28, 29, 34, 37, 40, 44, 46, 47, 50, 55, 59, 60, 61, 62, 63, 65, 67, 70, 73, 74, 77, 79, 86, 88, 89, 90, 92, 93, 96, 97, 98, 99, 100, 101, 107, 109, 111, 112, 115, 117, 122, 123, 124, 129, 133, 137, 138, 141, 143, 148, 151, 158, 159, 162, 165, 166, 167, 168, 169, 170, 171, 173, 174, 176, 178, 180, 181, 184, 186, 187, 190, 193, 194, 197, 199, 200, 201, 204, 206, 207, 208, 212, 222, 224, 233, 234, 235, 237, 242, 243, 245, 249, 251, 253], 19: [127, 153, 210, 257, 270, 296, 304, 307, 308, 309, 310, 311, 312, 313, 314, 315, 336, 340, 350, 353, 370, 383, 387, 394], 22: [247], 20: [306, 376, 390], 21: [392]}\n"
     ]
    }
   ],
   "source": [
    "# feature variable의 value가 나타나는 example의 location list를 반환.\n",
    "\n",
    "def get_occurrences(f):\n",
    "    \"\"\"\n",
    "    Returns:\n",
    "        _type_: dictionary, [key(scalar): value(list)]\n",
    "    \"\"\"\n",
    "    r = {}\n",
    "    \n",
    "    #### YOUR CODE - START ####\n",
    "    for i in range(len(data[f])):\n",
    "        # print(data[f][i])\n",
    "        key = data[f][i]\n",
    "        try:\n",
    "            r[key].append(i)\n",
    "        except KeyError:\n",
    "            r[key] = [i]\n",
    "        #### YOUR CODE - END   ####\n",
    "    return r\n",
    "\n",
    "print(get_occurrences('age'))"
   ]
  },
  {
   "cell_type": "code",
   "execution_count": 10,
   "metadata": {},
   "outputs": [
    {
     "name": "stdout",
     "output_type": "stream",
     "text": [
      "{18: 82, 17: 98, 15: 82, 16: 104, 19: 24, 22: 1, 20: 3, 21: 1}\n"
     ]
    }
   ],
   "source": [
    "# feature variable의 value count를 반환.\n",
    "def get_value_counts(f):\n",
    "    \"\"\"\n",
    "    Returns:\n",
    "        _type_: dictionary, [key(scalar): value(scalar)]\n",
    "    \"\"\"\n",
    "    r = Counter() # 사용하지 않아도 됨\n",
    "    #### YOUR CODE - START ####\n",
    "    for i in data[f]:\n",
    "        r.increment(i,1)\n",
    "    #### YOUR CODE - END   ####\n",
    "    return r\n",
    "\n",
    "print(get_value_counts('age'))"
   ]
  },
  {
   "cell_type": "code",
   "execution_count": 11,
   "metadata": {},
   "outputs": [
    {
     "name": "stdout",
     "output_type": "stream",
     "text": [
      "[0, 223, 244, 250, 265, 267, 269, 272, 276, 277, 279, 282, 283, 294, 297, 316, 334, 349, 358, 359, 361, 362, 365, 366, 368, 374, 381, 384, 385, 389]\n"
     ]
    }
   ],
   "source": [
    "# conditions으로 주어진 여러 feature variable 들이 동시에 나타난 example의 location list를 반환.\n",
    "def get_co_occurrences(conds):\n",
    "    \"\"\"\n",
    "    Returns:\n",
    "        _type_: list\n",
    "    \"\"\"\n",
    "    r = []\n",
    "    #### YOUR CODE - START ####\n",
    "    a = []\n",
    "    b = []\n",
    "    for i, j in conds.items():\n",
    "        a.append(i)\n",
    "        b.append(j)\n",
    "    for i in range(len(data)):\n",
    "        if data[a[0]][i] == b[0] and data[a[1]][i] == b[1]:\n",
    "            r.append(i)\n",
    "    # print(a, b)\n",
    "    #### YOUR CODE - END   ####\n",
    "    r.sort()\n",
    "    return r\n",
    "\n",
    "print(get_co_occurrences({'age' : 18, 'traveltime' : 2}))"
   ]
  },
  {
   "cell_type": "code",
   "execution_count": 12,
   "metadata": {},
   "outputs": [
    {
     "name": "stdout",
     "output_type": "stream",
     "text": [
      "[occurrences] Your answer is [True]\n",
      "[value_counts] Your answer is [True]\n",
      "[co_occurrences] Your answer is [True]\n"
     ]
    }
   ],
   "source": [
    "check_list = ['occurrences', 'value_counts', 'co_occurrences']\n",
    "\n",
    "# print(answer['occurrences'])\n",
    "# print(answer['value_counts'])\n",
    "# print(answer['co_occurrences'])\n",
    "\n",
    "# 본인이 작성한 결과 저장\n",
    "my_answer['occurrences'] = get_occurrences('age')\n",
    "my_answer['value_counts'] = get_value_counts('age')\n",
    "my_answer['co_occurrences'] = get_co_occurrences({'age' : 18, 'traveltime' : 2})\n",
    "\n",
    "for c in check_list:\n",
    "    check(c, my_answer[c], answer[c])"
   ]
  },
  {
   "cell_type": "markdown",
   "metadata": {},
   "source": [
    "### Q2"
   ]
  },
  {
   "cell_type": "code",
   "execution_count": 13,
   "metadata": {},
   "outputs": [
    {
     "name": "stdout",
     "output_type": "stream",
     "text": [
      "{2: 0.2708860759493671, 1: 0.6506329113924051, 3: 0.05822784810126582, 4: 0.020253164556962026}\n"
     ]
    }
   ],
   "source": [
    "# discrete feature variable에 대한 probability mass function을 반환\n",
    "def get_pmf(f):\n",
    "    \"\"\"\n",
    "    Returns:\n",
    "        _type_: dictionary [key(scalar): value(scalar)]\n",
    "    \"\"\"\n",
    "    r = Counter()\n",
    "    #### YOUR CODE - START ####\n",
    "    for i in range(len(data[f])):\n",
    "        r.increment(data[f][i],1)\n",
    "    r.normalize()\n",
    "    #### YOUR CODE - END   ####\n",
    "    return r\n",
    "\n",
    "print(get_pmf('traveltime'))\n"
   ]
  },
  {
   "cell_type": "code",
   "execution_count": 14,
   "metadata": {},
   "outputs": [
    {
     "name": "stdout",
     "output_type": "stream",
     "text": [
      "1.4481012658227848\n"
     ]
    }
   ],
   "source": [
    "# discrete feature variable에 대한 mean (expectation)을 반환\n",
    "def get_mean(f):\n",
    "    \"\"\"\n",
    "    Returns:\n",
    "        _type_: scalar\n",
    "    \"\"\"\n",
    "    r = 0.0\n",
    "    #### YOUR CODE - START ####\n",
    "    for i in range(len(data[f])):\n",
    "        r += data[f][i]\n",
    "    r = r / len(data)\n",
    "    #### YOUR CODE - END   ####\n",
    "    return r\n",
    "\n",
    "print(get_mean('traveltime'))"
   ]
  },
  {
   "cell_type": "code",
   "execution_count": 15,
   "metadata": {},
   "outputs": [
    {
     "name": "stdout",
     "output_type": "stream",
     "text": [
      "0.48528120493511\n"
     ]
    }
   ],
   "source": [
    "# discrete feature variable에 대한 variacne을 반환\n",
    "def get_variance(f):\n",
    "    \"\"\"\n",
    "    Returns:\n",
    "        _type_: scalar\n",
    "    \"\"\"\n",
    "    r = 0.0\n",
    "    #### YOUR CODE - START ####\n",
    "    mean = get_mean(f)\n",
    "    for i in range(len(data[f])):\n",
    "        r += (data[f][i] - mean) ** 2\n",
    "    r = r / len(data)\n",
    "    #### YOUR CODE - END   ####\n",
    "    return r\n",
    "\n",
    "print(get_variance('traveltime'))"
   ]
  },
  {
   "cell_type": "code",
   "execution_count": 16,
   "metadata": {},
   "outputs": [
    {
     "name": "stdout",
     "output_type": "stream",
     "text": [
      "1.448101265822785\n",
      "[pmf] Your answer is [True]\n",
      "[mean] Your answer is [True]\n",
      "[variance] Your answer is [False]\n"
     ]
    }
   ],
   "source": [
    "check_list = ['pmf', 'mean', 'variance']\n",
    "\n",
    "# print(answer['pmf'])\n",
    "print(answer['mean'])\n",
    "# print(answer['variance'])\n",
    "\n",
    "# 본인이 작성한 결과 저장\n",
    "my_answer['pmf'] = get_pmf('traveltime')\n",
    "my_answer['mean'] = get_mean('traveltime')\n",
    "my_answer['variance'] = get_variance('traveltime')\n",
    "\n",
    "for c in check_list:\n",
    "    check(c, my_answer[c], answer[c])"
   ]
  },
  {
   "cell_type": "markdown",
   "metadata": {},
   "source": [
    "### Q3"
   ]
  },
  {
   "cell_type": "code",
   "execution_count": 17,
   "metadata": {},
   "outputs": [
    {
     "name": "stdout",
     "output_type": "stream",
     "text": [
      "{2: {3: 0.4141414141414142, 4: 0.3080808080808081, 1: 0.05555555555555556, 2: 0.14141414141414144, 5: 0.08080808080808081}, 3: {2: 0.16923076923076924, 5: 0.015384615384615385, 3: 0.4461538461538462, 4: 0.3230769230769231, 1: 0.046153846153846156}, 1: {3: 0.33333333333333337, 4: 0.2761904761904762, 5: 0.1904761904761905, 1: 0.01904761904761905, 2: 0.18095238095238098}, 4: {2: 0.2222222222222222, 3: 0.4074074074074074, 4: 0.14814814814814814, 1: 0.1111111111111111, 5: 0.1111111111111111}}\n"
     ]
    }
   ],
   "source": [
    "# 두 개의 discrete feature variable에 대한 conditional pmf을 반환\n",
    "# prob (f2 | f1)\n",
    "def get_conditional_pmf(f1, f2):\n",
    "    \"\"\"\n",
    "    Returns:\n",
    "        _type_: dictionary [key(scalar): value(dict[key(scalar): value(scalar)])]\n",
    "    \"\"\"\n",
    "    \n",
    "    r = CounterMap() # 사용하지 않아도 됨\n",
    "    #### YOUR CODE - START ####\n",
    "    for i in range(len(data)):\n",
    "        r.increment(data[f1][i],data[f2][i], 1)\n",
    "    r.normalize()\n",
    "    #### YOUR CODE - END ####\n",
    "    return r\n",
    "    \n",
    "print(get_conditional_pmf('studytime', 'freetime'))"
   ]
  },
  {
   "cell_type": "code",
   "execution_count": 18,
   "metadata": {},
   "outputs": [
    {
     "name": "stdout",
     "output_type": "stream",
     "text": [
      "False\n"
     ]
    }
   ],
   "source": [
    "# 두 개의 discrete feature variable의 independence 반환.\n",
    "# abs(p(f1=v1|f2=v2) - p(f1=v1)) < eps 이면 independence 아니면 dependence\n",
    "def check_independence(f1, f2, eps = 0.07):\n",
    "    \"\"\"\n",
    "    Returns:\n",
    "        _type_: bool\n",
    "    \"\"\"\n",
    "    r = True\n",
    "    #### YOUR CODE - START ####\n",
    "    rm = get_conditional_pmf(f1, f2)\n",
    "    pmf = get_pmf(f1)\n",
    "    # print(rm)\n",
    "    # print(pmf)\n",
    "    # print(rm)\n",
    "    # abs()\n",
    "    for i, j in rm.items():\n",
    "        # print(\"-------------------\")\n",
    "        # print(i, j)\n",
    "        for a, b in j.items():\n",
    "            if abs(b - pmf.get(i)) < eps:\n",
    "                r = False\n",
    "    #### YOUR CODE - END ####\n",
    "    return r\n",
    "\n",
    "print(check_independence('studytime', 'freetime'))"
   ]
  },
  {
   "cell_type": "code",
   "execution_count": 19,
   "metadata": {},
   "outputs": [
    {
     "name": "stdout",
     "output_type": "stream",
     "text": [
      "[conditional_pmf] Your answer is [True]\n",
      "[independence] Your answer is [True]\n"
     ]
    }
   ],
   "source": [
    "check_list = ['conditional_pmf', 'independence']\n",
    "\n",
    "# print(answer['conditional_pmf'])\n",
    "# print(answer['independence'])\n",
    "\n",
    "# 본인이 작성한 결과 저장\n",
    "my_answer['conditional_pmf'] = get_conditional_pmf('studytime', 'freetime')\n",
    "my_answer['independence'] = check_independence('studytime', 'freetime')\n",
    "\n",
    "for c in check_list:\n",
    "    check(c, my_answer[c], answer[c])"
   ]
  },
  {
   "cell_type": "markdown",
   "metadata": {},
   "source": [
    "### Q4"
   ]
  },
  {
   "cell_type": "code",
   "execution_count": 20,
   "metadata": {},
   "outputs": [
    {
     "name": "stdout",
     "output_type": "stream",
     "text": [
      "0.3751578272712699\n"
     ]
    }
   ],
   "source": [
    "# 두 개의 discrete feature variable의 covariance 반환\n",
    "def get_covariance(f1, f2):\n",
    "    \"\"\"\n",
    "    Returns:\n",
    "        _type_: scalar\n",
    "    \"\"\"\n",
    "    r = 0.0\n",
    "    #### YOUR CODE - START ####\n",
    "    for i in range(len(data)):\n",
    "        r += data[f1][i] * data[f2][i]\n",
    "    r = r / len(data) - get_mean(f1) * get_mean(f2)\n",
    "    #### YOUR CODE - END ####\n",
    "    return r\n",
    "\n",
    "print(get_covariance(\"studytime\", \"G3\"))"
   ]
  },
  {
   "cell_type": "code",
   "execution_count": 21,
   "metadata": {},
   "outputs": [
    {
     "name": "stdout",
     "output_type": "stream",
     "text": [
      "0.09781968965319603\n"
     ]
    }
   ],
   "source": [
    "# 두 개의 discrete feature variable의 correlation 반환\n",
    "def get_correlation(f1, f2):\n",
    "    \"\"\"\n",
    "    Returns:\n",
    "        _type_: scalar\n",
    "    \"\"\"\n",
    "    r = 0.0\n",
    "    #### YOUR CODE - START ####\n",
    "    r = get_covariance(f1, f2)\n",
    "    v1 = get_variance(f1) ** (1/2)\n",
    "    v2 = get_variance(f2) ** (1/2)\n",
    "    r = r / (v1 * v2)\n",
    "    #### YOUR CODE - END ####\n",
    "    return r\n",
    "\n",
    "print(get_correlation(\"studytime\", \"G3\"))"
   ]
  },
  {
   "cell_type": "code",
   "execution_count": 22,
   "metadata": {},
   "outputs": [
    {
     "name": "stdout",
     "output_type": "stream",
     "text": [
      "[covariance] Your answer is [True]\n",
      "[correlation] Your answer is [True]\n"
     ]
    }
   ],
   "source": [
    "check_list = ['covariance', 'correlation']\n",
    "\n",
    "# print(answer['covariance'])\n",
    "# print(answer['correlation'])\n",
    "\n",
    "# 본인이 작성한 결과 저장\n",
    "my_answer['covariance'] = get_covariance(\"studytime\", \"G3\")\n",
    "my_answer['correlation'] = get_correlation(\"studytime\", \"G3\")\n",
    "\n",
    "for c in check_list:\n",
    "    check(c, my_answer[c], answer[c])"
   ]
  },
  {
   "cell_type": "markdown",
   "metadata": {},
   "source": [
    "### Q5"
   ]
  },
  {
   "cell_type": "code",
   "execution_count": 23,
   "metadata": {},
   "outputs": [
    {
     "name": "stdout",
     "output_type": "stream",
     "text": [
      "0.0054629309988933426\n"
     ]
    }
   ],
   "source": [
    "# 주어진 multinomial feature variable에 대해서 observed_cnts가 주어졌을 때의 확률을 반환\n",
    "\n",
    "def get_prob_from_multinomial_pmf(f, observed_cnts):\n",
    "    \"\"\"\n",
    "    Returns:\n",
    "        _type_: scalar\n",
    "    \"\"\"\n",
    "    r = 1.0\n",
    "    c = Counter()\n",
    "    #### YOUR CODE - START ####\n",
    "    for i in data[f]:\n",
    "        c.increment(i,1)\n",
    "    c.normalize()\n",
    "    sum = 0\n",
    "    fac = 1\n",
    "    for k, v in observed_cnts.items():\n",
    "        r *= c.get(k) ** v\n",
    "        sum += v\n",
    "        fac *= math.factorial(v)\n",
    "    \n",
    "    #### YOUR CODE - END ####\n",
    "    return r * math.factorial(sum) / fac\n",
    "\n",
    "feat = 'reason'\n",
    "observed_cnts = {'course': 3, 'other': 3, 'home': 3, 'reputation': 3}\n",
    "\n",
    "print(get_prob_from_multinomial_pmf(feat, observed_cnts))"
   ]
  },
  {
   "cell_type": "code",
   "execution_count": 24,
   "metadata": {},
   "outputs": [
    {
     "name": "stdout",
     "output_type": "stream",
     "text": [
      "0.005462930998893343\n",
      "[prob_from_multinomial_pmf] Your answer is [True]\n"
     ]
    }
   ],
   "source": [
    "check_list = ['prob_from_multinomial_pmf']\n",
    "\n",
    "print(answer['prob_from_multinomial_pmf'])\n",
    "\n",
    "# 본인이 작성한 결과 저장\n",
    "my_answer['prob_from_multinomial_pmf'] = get_prob_from_multinomial_pmf(feat, observed_cnts)\n",
    "\n",
    "for c in check_list:\n",
    "    check(c, my_answer[c], answer[c])"
   ]
  },
  {
   "cell_type": "markdown",
   "metadata": {},
   "source": [
    "### Q6"
   ]
  },
  {
   "cell_type": "code",
   "execution_count": 25,
   "metadata": {},
   "outputs": [
    {
     "name": "stdout",
     "output_type": "stream",
     "text": [
      "20.89367088607595\n"
     ]
    }
   ],
   "source": [
    "# 주어진 continuous feature variables의 sum of expectations을 반환\n",
    "# E[X+Y+Z]=?\n",
    "def get_mean_of_sum_of_random_variables(fs):\n",
    "    \"\"\"\n",
    "    Returns:\n",
    "        _type_: scalar\n",
    "    \"\"\"\n",
    "    r = 0\n",
    "    #### YOUR CODE - START ####\n",
    "    # c = Counter() # 사용하지 않아도 됨\n",
    "    for i in range(len(data)):\n",
    "        for j in fs:\n",
    "            r += data[j][i]\n",
    "    r = r / (len(data))\n",
    "    #### YOUR CODE - END ####\n",
    "    return r\n",
    "\n",
    "feats = ['age', 'Medu', 'traveltime']\n",
    "print(get_mean_of_sum_of_random_variables(feats))"
   ]
  },
  {
   "cell_type": "code",
   "execution_count": 26,
   "metadata": {},
   "outputs": [
    {
     "name": "stdout",
     "output_type": "stream",
     "text": [
      "3.304854991187305\n",
      "1\n"
     ]
    }
   ],
   "source": [
    "# 주어진 continuous feature variables의 sum of variances 을 반환\n",
    "# Var[X+Y+Z]=?\n",
    "def get_variance_of_sum_of_random_variables(fs):\n",
    "    \"\"\"\n",
    "    Returns:\n",
    "        _type_: scalar\n",
    "    \"\"\"\n",
    "    r = 1\n",
    "    #### YOUR CODE - START ####\n",
    "    val = 0\n",
    "    for i in fs:\n",
    "        val += get_variance(i)\n",
    "    print(val)\n",
    "    #### YOUR CODE - END ####\n",
    "    return r\n",
    "\n",
    "print(get_variance_of_sum_of_random_variables(feats))"
   ]
  },
  {
   "cell_type": "code",
   "execution_count": 27,
   "metadata": {},
   "outputs": [
    {
     "name": "stdout",
     "output_type": "stream",
     "text": [
      "2.7127447524435677\n",
      "3.304854991187305\n",
      "[mean_of_sum_of_random_variables] Your answer is [True]\n",
      "[variance_of_sum_of_random_variables] Your answer is [False]\n"
     ]
    }
   ],
   "source": [
    "check_list = ['mean_of_sum_of_random_variables', 'variance_of_sum_of_random_variables']\n",
    "\n",
    "# print(answer['mean_of_sum_of_random_variables'])\n",
    "print(answer['variance_of_sum_of_random_variables'])\n",
    "\n",
    "# 본인이 작성한 결과 저장\n",
    "my_answer['mean_of_sum_of_random_variables'] = get_mean_of_sum_of_random_variables(feats)\n",
    "my_answer['variance_of_sum_of_random_variables'] = get_variance_of_sum_of_random_variables(feats)\n",
    "\n",
    "for c in check_list:\n",
    "    check(c, my_answer[c], answer[c])"
   ]
  },
  {
   "cell_type": "markdown",
   "metadata": {},
   "source": [
    "## 점수 계산기"
   ]
  },
  {
   "cell_type": "code",
   "execution_count": 28,
   "metadata": {},
   "outputs": [],
   "source": [
    "check_score = {\n",
    "    'occurrences': 4, 'value_counts': 4, 'co_occurrences': 4,\n",
    "    'pmf': 4, 'mean': 4, 'variance' : 4,\n",
    "    'conditional_pmf': 4, 'independence': 4,\n",
    "    'covariance' : 4, 'correlation' : 4,\n",
    "    'prob_from_multinomial_pmf': 4,\n",
    "    'mean_of_sum_of_random_variables' : 4, 'variance_of_sum_of_random_variables' : 4\n",
    "}"
   ]
  },
  {
   "cell_type": "code",
   "execution_count": 38,
   "metadata": {},
   "outputs": [
    {
     "name": "stdout",
     "output_type": "stream",
     "text": [
      "[occurrences] Your answer is [True]\n",
      "[value_counts] Your answer is [True]\n",
      "[co_occurrences] Your answer is [True]\n",
      "[pmf] Your answer is [True]\n",
      "[mean] Your answer is [True]\n",
      "[variance] Your answer is [False]\n",
      "[conditional_pmf] Your answer is [True]\n",
      "[independence] Your answer is [True]\n",
      "[covariance] Your answer is [True]\n",
      "[correlation] Your answer is [True]\n",
      "[prob_from_multinomial_pmf] Your answer is [True]\n",
      "[mean_of_sum_of_random_variables] Your answer is [True]\n",
      "[variance_of_sum_of_random_variables] Your answer is [False]\n",
      "Total score is 44\n"
     ]
    }
   ],
   "source": [
    "score = 0\n",
    "\n",
    "for k, v in check_score.items():\n",
    "    try:\n",
    "        if check(k, my_answer[k], answer[k]) == True:\n",
    "            score += v\n",
    "    except:\n",
    "        continue\n",
    "    \n",
    "print(f'Total score is {score}')"
   ]
  }
 ],
 "metadata": {
  "kernelspec": {
   "display_name": "base",
   "language": "python",
   "name": "python3"
  },
  "language_info": {
   "codemirror_mode": {
    "name": "ipython",
    "version": 3
   },
   "file_extension": ".py",
   "mimetype": "text/x-python",
   "name": "python",
   "nbconvert_exporter": "python",
   "pygments_lexer": "ipython3",
   "version": "3.9.13"
  }
 },
 "nbformat": 4,
 "nbformat_minor": 2
}
