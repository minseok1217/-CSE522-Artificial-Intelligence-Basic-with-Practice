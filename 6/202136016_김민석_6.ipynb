{
 "cells": [
  {
   "cell_type": "code",
   "execution_count": null,
   "metadata": {},
   "outputs": [],
   "source": []
  },
  {
   "cell_type": "code",
   "execution_count": 1,
   "metadata": {},
   "outputs": [],
   "source": [
    "import numpy as np\n",
    "\n",
    "lucky_box = np.load('luckybox.npy')\n",
    "unique, count = np.unique(lucky_box, return_counts=True)"
   ]
  },
  {
   "cell_type": "code",
   "execution_count": 2,
   "metadata": {},
   "outputs": [
    {
     "data": {
      "text/plain": [
       "{'0': 0.714285712244898,\n",
       " '1': 2.857142848979592e-09,\n",
       " '2': 0.01428571424489796,\n",
       " '3': 0.042857142734693876,\n",
       " '4': 0.05714285697959184,\n",
       " '5': 0.1714285709387755}"
      ]
     },
     "execution_count": 2,
     "metadata": {},
     "output_type": "execute_result"
    }
   ],
   "source": [
    "gt_probability = {}\n",
    "for n, cnt in zip(unique, count):\n",
    "    gt_probability[str(int(n))] = cnt/np.sum(count)\n",
    "gt_probability"
   ]
  },
  {
   "cell_type": "markdown",
   "metadata": {},
   "source": []
  },
  {
   "cell_type": "code",
   "execution_count": 3,
   "metadata": {},
   "outputs": [
    {
     "name": "stdout",
     "output_type": "stream",
     "text": [
      "fail the test\n"
     ]
    }
   ],
   "source": [
    "def check(error):\n",
    "    if error < 0.0001 :\n",
    "        print('pass the test')\n",
    "    else:\n",
    "        print('fail the test')\n",
    "        \n",
    "def eval(my_probability):\n",
    "    error = 0\n",
    "    for key, value in gt_probability.items():\n",
    "        error += np.abs(gt_probability[key]-my_probability[key])\n",
    "    # print(gt_probability)\n",
    "    # print(my_probability)\n",
    "    # print('error: ', error)\n",
    "    return error\n",
    "    \n",
    "my_probability = {'0': 1/6, '1': 1/6, '2': 1/6, '3': 1/6, '4': 1/6, '5': 1/6}\n",
    "error = eval(my_probability)\n",
    "check(error)"
   ]
  },
  {
   "cell_type": "markdown",
   "metadata": {},
   "source": [
    "## 이번 실습은 numpy library를 사용하지 않고 구현해야 합니다."
   ]
  },
  {
   "cell_type": "markdown",
   "metadata": {},
   "source": [
    "### 1번 문제: 전체 탐색을 통한 counting "
   ]
  },
  {
   "cell_type": "code",
   "execution_count": 4,
   "metadata": {},
   "outputs": [
    {
     "name": "stdout",
     "output_type": "stream",
     "text": [
      "{'0': 0.714285712244898, '1': 2.857142848979592e-09, '2': 0.01428571424489796, '3': 0.042857142734693876, '4': 0.05714285697959184, '5': 0.1714285709387755}\n",
      "pass the test\n"
     ]
    }
   ],
   "source": [
    "### Your code - Start ###\n",
    "count = [0 for i in range(6)]\n",
    "# print(count)\n",
    "for i in range(len(lucky_box)):\n",
    "  j = int(lucky_box[i])\n",
    "  count[j] += 1\n",
    "for i in range(6):\n",
    "  count[i] = count[i] / len(lucky_box)\n",
    "my_probability = {'0': count[0], '1': count[1], '2': count[2], '3': count[3], '4': count[4], '5': count[5]}\n",
    "### Your code - End ###\n",
    "print(my_probability)\n",
    "error = eval(my_probability)\n",
    "check(error)"
   ]
  },
  {
   "cell_type": "markdown",
   "metadata": {},
   "source": [
    "### 2번 문제: random sampling을 통한 counting"
   ]
  },
  {
   "cell_type": "code",
   "execution_count": 5,
   "metadata": {},
   "outputs": [
    {
     "name": "stdout",
     "output_type": "stream",
     "text": [
      "{'0': 0.71427235, '1': 1e-08, '2': 0.01429856, '3': 0.04286248, '4': 0.05714222, '5': 0.17142438}\n",
      "pass the test\n"
     ]
    }
   ],
   "source": [
    "import random\n",
    "n = 100_000_000\n",
    "### Your code - Start ###\n",
    "count = [0 for i in range(6)]\n",
    "# print(count)\n",
    "for i in range(n):\n",
    "  a = random.randrange(0,len(lucky_box))\n",
    "  b = int(lucky_box[a])\n",
    "  count[b] += 1\n",
    "### Your code - End ###\n",
    "for i in range(6):\n",
    "  count[i] = count[i] / n\n",
    "my_probability = {'0': count[0], '1': count[1], '2': count[2], '3': count[3], '4': count[4], '5': count[5]}\n",
    "print(my_probability)\n",
    "error = eval(my_probability)\n",
    "# print(error)\n",
    "check(error)"
   ]
  },
  {
   "cell_type": "markdown",
   "metadata": {},
   "source": [
    "### 3번 error analysis"
   ]
  },
  {
   "cell_type": "code",
   "execution_count": 20,
   "metadata": {},
   "outputs": [
    {
     "data": {
      "image/png": "[encoded data removed]",
      "text/plain": [
       "<Figure size 640x480 with 1 Axes>"
      ]
     },
     "metadata": {},
     "output_type": "display_data"
    }
   ],
   "source": [
    "import random\n",
    "import matplotlib.pyplot as plt\n",
    "\n",
    "### Your code - Start ###\n",
    "n = 10_000\n",
    "# n = 50\n",
    "count = [0 for i in range(6)]\n",
    "my_probability = {'0': 0, '1': 0, '2': 0, '3': 0, '4': 0, '5': 0}\n",
    "# print(count)\n",
    "for i in range(1, n + 1):\n",
    "  #print(i)\n",
    "  # if i != 0:\n",
    "  count = [0 for i in range(6)]\n",
    "  for j in range(i):\n",
    "    a = random.randrange(0,len(lucky_box))\n",
    "    b = int(lucky_box[a])\n",
    "    count[b] += 1\n",
    "    \n",
    "\n",
    "  # if i == 0:\n",
    "  #   my_probability = {'0': 0, '1': 0, '2': 0, '3': 0, '4': 0, '5': 0}\n",
    "    \n",
    "  # else:\n",
    "  my_probability = {'0': count[0]/i,\n",
    "                    '1': count[1]/i,\n",
    "                    '2': count[2]/i,\n",
    "                    '3': count[3]/i,\n",
    "                    '4': count[4]/i,\n",
    "                    '5': count[5]/i}\n",
    "  \n",
    "  # print(i)\n",
    "  # print(my_probability)\n",
    "  # print(eval(my_probability))\n",
    "  plt.scatter(i, eval(my_probability), color = 'blue', s = 5)\n",
    "# for i in range(6):\n",
    "#   count[i] = count[i] / n\n",
    "#my_probability = {'0': count[0], '1': count[1], '2': count[2], '3': count[3], '4': count[4], '5': count[5]}\n",
    "#print(my_probability)\n",
    "error = eval(my_probability)\n",
    "# print(error)\n",
    "# check(error)\n",
    "plt.title(\"approximate probability error\")\n",
    "plt.ylim(0.0,1.0)\n",
    "plt.xlim(0,10000)\n",
    "plt.show()\n",
    "### Your code - End ###"
   ]
  },
  {
   "cell_type": "markdown",
   "metadata": {},
   "source": [
    "### 고찰"
   ]
  },
  {
   "cell_type": "markdown",
   "metadata": {},
   "source": [
    "1번과 2번을 구현하는 과정은 컴파일 시간이 오래걸리는 것을 제외한다면 큰 어려움을 느끼지 않았습니다. 하지만 extra 점수인 3번을 구현할 때는 문제를 이해하는 과정에서 어려움을 느꼈습니다. 또, 그래프에 점을 찍는 과정에서 linear하게 구현되는 것을 보완하기 위해 여러가지 방법을 고민하던 도중에 위와 같은 방법을 생각해낼 수 있었습니다."
   ]
  },
  {
   "cell_type": "markdown",
   "metadata": {},
   "source": []
  }
 ],
 "metadata": {
  "interpreter": {
   "hash": "7df67fadbb8f1573ef586722c109f4cb5351f3c79370d5e9aa17bc5ec258154f"
  },
  "kernelspec": {
   "display_name": "Python 3.10.0 ('pstkim')",
   "language": "python",
   "name": "python3"
  },
  "language_info": {
   "codemirror_mode": {
    "name": "ipython",
    "version": 3
   },
   "file_extension": ".py",
   "mimetype": "text/x-python",
   "name": "python",
   "nbconvert_exporter": "python",
   "pygments_lexer": "ipython3",
   "version": "3.11.5"
  },
  "orig_nbformat": 4
 },
 "nbformat": 4,
 "nbformat_minor": 2
}
