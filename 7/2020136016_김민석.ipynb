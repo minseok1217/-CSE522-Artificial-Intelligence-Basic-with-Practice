{
 "cells": [
  {
   "cell_type": "code",
   "execution_count": 15,
   "metadata": {},
   "outputs": [
    {
     "name": "stdout",
     "output_type": "stream",
     "text": [
      "Requirement already satisfied: ucimlrepo in c:\\users\\ping3\\anaconda3\\lib\\site-packages (0.0.3)\n",
      "Requirement already satisfied: pandas in c:\\users\\ping3\\anaconda3\\lib\\site-packages (2.0.3)\n",
      "Requirement already satisfied: python-dateutil>=2.8.2 in c:\\users\\ping3\\appdata\\roaming\\python\\python311\\site-packages (from pandas) (2.8.2)\n",
      "Requirement already satisfied: pytz>=2020.1 in c:\\users\\ping3\\anaconda3\\lib\\site-packages (from pandas) (2023.3.post1)\n",
      "Requirement already satisfied: tzdata>=2022.1 in c:\\users\\ping3\\anaconda3\\lib\\site-packages (from pandas) (2023.3)\n",
      "Requirement already satisfied: numpy>=1.21.0 in c:\\users\\ping3\\anaconda3\\lib\\site-packages (from pandas) (1.24.3)\n",
      "Requirement already satisfied: six>=1.5 in c:\\users\\ping3\\appdata\\roaming\\python\\python311\\site-packages (from python-dateutil>=2.8.2->pandas) (1.16.0)\n"
     ]
    }
   ],
   "source": [
    "# 최초 실행 시\n",
    "!pip install ucimlrepo\n",
    "!pip install pandas"
   ]
  },
  {
   "cell_type": "code",
   "execution_count": 67,
   "metadata": {},
   "outputs": [],
   "source": [
    "from ucimlrepo import fetch_ucirepo \n",
    "import numpy as np\n",
    "  \n",
    "# fetch dataset \n",
    "car_evaluation = fetch_ucirepo(id=19)\n",
    "  \n",
    "# data (as pandas dataframes) \n",
    "X = car_evaluation.data.features \n",
    "y = car_evaluation.data.targets "
   ]
  },
  {
   "cell_type": "code",
   "execution_count": 68,
   "metadata": {},
   "outputs": [
    {
     "name": "stdout",
     "output_type": "stream",
     "text": [
      "True\n",
      "{'class': 'unacc'}\n",
      "False\n"
     ]
    }
   ],
   "source": [
    "X = X.to_dict('records')\n",
    "y = y.to_dict('records')\n",
    "\n",
    "print(X[0]['safety'] == 'low')\n",
    "print(y[0])\n",
    "print(y[0] == 'unacc')"
   ]
  },
  {
   "cell_type": "markdown",
   "metadata": {},
   "source": [
    "### 1번 문제: Bayes theorem"
   ]
  },
  {
   "cell_type": "code",
   "execution_count": 69,
   "metadata": {},
   "outputs": [
    {
     "name": "stdout",
     "output_type": "stream",
     "text": [
      "prior: 0.03761574074074074\n",
      "normConstarint: 0.3333333333333333\n",
      "likelyhood: 0.11284722222222222\n",
      "posterior: 0.012734495563271607\n"
     ]
    },
    {
     "data": {
      "text/plain": [
       "0.012734495563271607"
      ]
     },
     "execution_count": 69,
     "metadata": {},
     "output_type": "execute_result"
    }
   ],
   "source": [
    "# p(vgood|high) = p(F,E)\n",
    "\n",
    "def posterior(X, y, F, feature, E) :\n",
    "    number = len(X)\n",
    "    \n",
    "    # Prior\n",
    "    check = 0\n",
    "    for i in range(number):\n",
    "        if y[i]['class'] == F:\n",
    "            check += 1\n",
    "    prior = check / number\n",
    "    print(f'prior: {prior}')\n",
    "    \n",
    "    # Normalization constraint\n",
    "    check = 0\n",
    "    for i in range(number):\n",
    "        if X[i][feature] == E:\n",
    "            check += 1\n",
    "    normConstarint = check / number\n",
    "    print(f'normConstarint: {normConstarint}')\n",
    "    \n",
    "    # Likelyhood\n",
    "    a = 0\n",
    "    b = 0\n",
    "    for i in range(number):\n",
    "        if X[i][feature] == E:\n",
    "            a += 1\n",
    "            if y[i]['class'] == F:\n",
    "                b += 1\n",
    "    # print(a)\n",
    "    # print(b)\n",
    "    likelyhood = b / a\n",
    "    print(f'likelyhood: {likelyhood}')\n",
    "\n",
    "    # Posterior\n",
    "    posterior = likelyhood * prior / normConstarint\n",
    "    print(f'posterior: {posterior}')\n",
    "    \n",
    "    return posterior   \n",
    "    \n",
    "\n",
    "posterior(X, y, F='vgood', feature='safety', E='high')"
   ]
  },
  {
   "cell_type": "markdown",
   "metadata": {},
   "source": [
    "### 2번 문제: Independent"
   ]
  },
  {
   "cell_type": "code",
   "execution_count": 153,
   "metadata": {},
   "outputs": [
    {
     "name": "stdout",
     "output_type": "stream",
     "text": [
      "P(E) :  0.25\n",
      "P(F) :  0.3333333333333333\n",
      "P(E * F) :  0.08333333333333333\n",
      "P(E, F) :  <function posterior at 0x00000274FEBD7B00>\n",
      ">> P(E) and P(F) are dependent\n",
      "\n",
      "P(E) :  0.25\n",
      "P(F) :  0.3333333333333333\n",
      "P(E * F) :  0.08333333333333333\n",
      "P(E, F) :  <function posterior at 0x00000274FEBD7B00>\n",
      ">> P(E) and P(F) are dependent\n",
      "\n"
     ]
    }
   ],
   "source": [
    "def independent(X, y, feat_1, feat_2, E, F) :\n",
    "    number = len(X)\n",
    "    \n",
    "    # Prior\n",
    "    check = 0\n",
    "    for i in range(number):\n",
    "        if X[i][feat_1] == E:\n",
    "            check += 1\n",
    "    P_E = check / number\n",
    "    \n",
    "    check = 0\n",
    "    for i in range(number):\n",
    "        if X[i][feat_2] == F:\n",
    "            check += 1\n",
    "            \n",
    "            \n",
    "    P_F = check / number\n",
    "    \n",
    "    a = 0\n",
    "    for i in range(number):\n",
    "        if X[i][feat_2] == F:\n",
    "            if X[i][feat_1] == E:\n",
    "                a += 1\n",
    "                \n",
    "    P_EF = a / len(X) ** 2\n",
    "    # print( b/a)\n",
    "    \n",
    "    a = P_E * P_F\n",
    "    b = P_EF\n",
    "    \n",
    "    result = 'independent' if a == b else 'dependent'\n",
    "    print(\"P(E) : \",P_E)\n",
    "    print(\"P(F) : \",P_F)\n",
    "    print(\"P(E * F) : \",a)\n",
    "    print(\"P(E, F) : \",posterior)\n",
    "    print(f'>> P(E) and P(F) are {result}\\n')\n",
    "    \n",
    "\n",
    "# independent case    \n",
    "independent(X, y, feat_1='buying', feat_2='safety', E='high', F='med')\n",
    "\n",
    "# dependent case\n",
    "independent(X, y, feat_1='doors', feat_2='safety', E='4', F='high')"
   ]
  }
 ],
 "metadata": {
  "kernelspec": {
   "display_name": "Ai_Basic",
   "language": "python",
   "name": "python3"
  },
  "language_info": {
   "codemirror_mode": {
    "name": "ipython",
    "version": 3
   },
   "file_extension": ".py",
   "mimetype": "text/x-python",
   "name": "python",
   "nbconvert_exporter": "python",
   "pygments_lexer": "ipython3",
   "version": "3.11.5"
  }
 },
 "nbformat": 4,
 "nbformat_minor": 2
}
