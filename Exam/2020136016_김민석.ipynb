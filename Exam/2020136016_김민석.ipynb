{
 "cells": [
  {
   "cell_type": "markdown",
   "metadata": {},
   "source": [
    "# Exam"
   ]
  },
  {
   "cell_type": "markdown",
   "metadata": {},
   "source": [
    "1. Basic Vector and Matrix Operations\n",
    "    * 8 questions * 2 points\n",
    "\n",
    "2. Similarity\n",
    "    * 2 questions * 3 points\n",
    "    * 1 question * 2 points\n",
    "\n",
    "3. Determinant\n",
    "    * 1 question * 4 points\n",
    "\n",
    "4. Inverse of Matrix\n",
    "    * 2 questions * 3 points\n",
    "\n",
    "5. Transformation\n",
    "    * 1 questions * 5 points\n",
    "    \n",
    "6. Derivatives\n",
    "    * 1 question * 5 points\n",
    "    \n",
    "7. Partial Derivatives\n",
    "    * 1 question * 5 points"
   ]
  },
  {
   "cell_type": "code",
   "execution_count": 13,
   "metadata": {},
   "outputs": [
    {
     "ename": "ModuleNotFoundError",
     "evalue": "No module named 'numpy'",
     "output_type": "error",
     "traceback": [
      "\u001b[1;31m---------------------------------------------------------------------------\u001b[0m",
      "\u001b[1;31mModuleNotFoundError\u001b[0m                       Traceback (most recent call last)",
      "\u001b[1;32mc:\\Users\\ping3\\Downloads\\2020136016_김민석.ipynb Cell 3\u001b[0m line \u001b[0;36m3\n\u001b[0;32m      <a href='vscode-notebook-cell:/c%3A/Users/ping3/Downloads/2020136016_%EA%B9%80%EB%AF%BC%EC%84%9D.ipynb#W2sZmlsZQ%3D%3D?line=0'>1</a>\u001b[0m \u001b[39m# 시험에 사용할 데이터\u001b[39;00m\n\u001b[0;32m      <a href='vscode-notebook-cell:/c%3A/Users/ping3/Downloads/2020136016_%EA%B9%80%EB%AF%BC%EC%84%9D.ipynb#W2sZmlsZQ%3D%3D?line=1'>2</a>\u001b[0m \u001b[39m# 300개의 instance. 각 instance는 5개의 feature로 구성.\u001b[39;00m\n\u001b[1;32m----> <a href='vscode-notebook-cell:/c%3A/Users/ping3/Downloads/2020136016_%EA%B9%80%EB%AF%BC%EC%84%9D.ipynb#W2sZmlsZQ%3D%3D?line=2'>3</a>\u001b[0m \u001b[39mimport\u001b[39;00m \u001b[39mnumpy\u001b[39;00m \u001b[39mas\u001b[39;00m \u001b[39mnp\u001b[39;00m\n\u001b[0;32m      <a href='vscode-notebook-cell:/c%3A/Users/ping3/Downloads/2020136016_%EA%B9%80%EB%AF%BC%EC%84%9D.ipynb#W2sZmlsZQ%3D%3D?line=3'>4</a>\u001b[0m \u001b[39mimport\u001b[39;00m \u001b[39mmath\u001b[39;00m\n\u001b[0;32m      <a href='vscode-notebook-cell:/c%3A/Users/ping3/Downloads/2020136016_%EA%B9%80%EB%AF%BC%EC%84%9D.ipynb#W2sZmlsZQ%3D%3D?line=5'>6</a>\u001b[0m np\u001b[39m.\u001b[39mrandom\u001b[39m.\u001b[39mseed(\u001b[39m1000\u001b[39m)\n",
      "\u001b[1;31mModuleNotFoundError\u001b[0m: No module named 'numpy'"
     ]
    }
   ],
   "source": [
    "# 시험에 사용할 데이터\n",
    "# 300개의 instance. 각 instance는 5개의 feature로 구성.\n",
    "import numpy as np\n",
    "import math\n",
    "\n",
    "np.random.seed(1000)\n",
    "\n",
    "generate_data = False\n",
    "data_file_name = 'data.npy'\n",
    "\n",
    "if generate_data:\n",
    "    d = np.random.rand(300, 5)\n",
    "    np.save(data_file_name, d)\n",
    "    print(f'generate data {d.shape}')\n",
    "    \n",
    "d = np.load(data_file_name)\n",
    "print(f'read data {d.shape}')\n",
    "\n",
    "def check(msg, y, y_h, eps = 0.0000001):\n",
    "    # eps = 0.0000001\n",
    "    if isinstance(y, np.ndarray):\n",
    "        # np.array_equal(y, y_h)}\n",
    "        mse = ((y - y_h) ** 2).mean()\n",
    "        print(f'[{msg}] Your answer is [{mse < eps}]')\n",
    "    elif isinstance(y, float):\n",
    "        mse = math.sqrt((y - y_h) ** 2)\n",
    "        print(f'[{msg}] Your answer is [{mse < eps}]')\n",
    "    else:\n",
    "        print(f'[{msg}] Your answer is [{y == y_h}]')\n",
    "    try:\n",
    "        print(f'y   = {y[:5]}\\ny_h = {y_h[:5]}\\n')\n",
    "    except:\n",
    "        print(f'y   = {y}\\ny_h = {y_h}\\n')"
   ]
  },
  {
   "cell_type": "markdown",
   "metadata": {},
   "source": [
    "## 1. Basic Vector and Matrix Operations "
   ]
  },
  {
   "cell_type": "markdown",
   "metadata": {},
   "source": [
    "* numpy에서 제공하는 함수를 사용하지 말고 직접 구현"
   ]
  },
  {
   "cell_type": "code",
   "execution_count": 97,
   "metadata": {},
   "outputs": [],
   "source": [
    "a = d[0]\n",
    "b = d[1]\n",
    "\n",
    "dot_y = np.dot(a,b)\n",
    "\n",
    "norm_y = np.linalg.norm(a)\n",
    "\n",
    "dist_y = np.linalg.norm(a-b)\n",
    "\n",
    "unit_y= a / np.linalg.norm(a)\n",
    "\n",
    "cosine_y = a.dot(b) / (np.linalg.norm(a) * np.linalg.norm(b))\n",
    "\n",
    "vec_proj_y = np.dot(a, b / np.linalg.norm(b)) * b / np.linalg.norm(b)"
   ]
  },
  {
   "cell_type": "code",
   "execution_count": 96,
   "metadata": {},
   "outputs": [
    {
     "name": "stdout",
     "output_type": "stream",
     "text": [
      "[Dot Product] Your answer is [True]\n",
      "y   = 0.9484025521830949\n",
      "y_h = 0.9484025521830949\n",
      "\n",
      "[L2 Norm] Your answer is [True]\n",
      "y   = 1.0000000167596343\n",
      "y_h = 1.0000000167596343\n",
      "\n",
      "[Distance] Your answer is [True]\n",
      "y   = 0.32123896369842464\n",
      "y_h = 0.32123896369842464\n",
      "\n",
      "[Unit Vector] Your answer is [True]\n",
      "y   = [0.3621195  0.0688169  0.56994781 0.34450961 0.64854169]\n",
      "y_h = [0.3621195  0.0688169  0.56994781 0.34450961 0.6485417 ]\n",
      "\n",
      "0.9484025418985969\n",
      "[Cosine] Your answer is [True]\n",
      "y   = 0.9484027531666301\n",
      "y_h = 0.9484027540382975\n",
      "\n",
      "0.9484027176564644\n",
      "[Vector Projection] Your answer is [True]\n",
      "y   = [0.20560983 0.03938192 0.38422715 0.22478682 0.81085255]\n",
      "y_h = [0.20560983 0.03938192 0.38422714 0.2247868  0.8108525 ]\n",
      "\n"
     ]
    }
   ],
   "source": [
    "# 2 points\n",
    "def dot_product(a, b):\n",
    "    r = 0.0\n",
    "#### YOUR CODE - START ####\n",
    "    for i in range(len(a)):\n",
    "        r += a[i] * b[i]\n",
    "#### YOUR CODE - END   ####\n",
    "    return r\n",
    "\n",
    "# 2 points\n",
    "def l2norm(a): \n",
    "    r = 0.0\n",
    "#### YOUR CODE - START ####\n",
    "    for i in range(len(a)):\n",
    "        r += a[i] ** 2\n",
    "    \n",
    "    r = math.sqrt(r)\n",
    "#### YOUR CODE - END   ####\n",
    "    return r\n",
    "\n",
    "# 2 points\n",
    "def distance(a, b):\n",
    "    r = 0.0\n",
    "#### YOUR CODE - START ####\n",
    "    for i in range(len(a)):\n",
    "        r += (a[i] - b[i]) ** 2 \n",
    "    r = math.sqrt(r)\n",
    "#### YOUR CODE - END   ####\n",
    "    return r\n",
    "\n",
    "# 2 points\n",
    "def unit_vector(a):\n",
    "    r = a[:]\n",
    "#### YOUR CODE - START ####\n",
    "    for i in range(len(a)):\n",
    "        r[i] = a[i] / l2norm(a)\n",
    "#### YOUR CODE - END   ####\n",
    "    return r\n",
    "\n",
    "# 2 points\n",
    "def cosine(a, b):\n",
    "    r = 0.0\n",
    "#### YOUR CODE - START ####\n",
    "    # print(dot_product(a,b))\n",
    "    r = dot_product(a, b) / l2norm(a) / l2norm(b)\n",
    "#### YOUR CODE - END   ####\n",
    "    return r\n",
    "\n",
    "# 2 points\n",
    "# project a on b. \n",
    "def vec_proj_a_on_b(a, b):\n",
    "    r = np.zeros(b.shape)\n",
    "#### YOUR CODE - START ####\n",
    "    a_unit = unit_vector(a)\n",
    "    b_unit = unit_vector(b)\n",
    "    pro_size = l2norm(a) * cosine(a, b)\n",
    "    for i in range(len(a)):\n",
    "        r[i] = b_unit[i] * pro_size\n",
    "#### YOUR CODE - END   ####\n",
    "    return r\n",
    "\n",
    "check('Dot Product', dot_y, dot_product(a,b))\n",
    "\n",
    "check('L2 Norm', norm_y, l2norm(a))\n",
    "\n",
    "check('Distance', dist_y, distance(a,b))\n",
    "\n",
    "check('Unit Vector', unit_y, unit_vector(a))\n",
    "\n",
    "check('Cosine', cosine_y, cosine(a, b))\n",
    "\n",
    "check('Vector Projection', vec_proj_y, vec_proj_a_on_b(a, b))"
   ]
  },
  {
   "cell_type": "code",
   "execution_count": 68,
   "metadata": {},
   "outputs": [],
   "source": [
    "a = np.array([[1,4],[2,5],[3,6]])\n",
    "b = np.array([[1,0], [0,1]])\n",
    "\n",
    "mat_tr_y = np.array([[1,2,3], [4,5,6]])\n",
    "mat_mul_y = np.array([[1,4],[2,5],[3,6]])"
   ]
  },
  {
   "cell_type": "code",
   "execution_count": 69,
   "metadata": {},
   "outputs": [
    {
     "name": "stdout",
     "output_type": "stream",
     "text": [
      "[Matrix Traspose] Your answer is [True]\n",
      "y   = [[1 2 3]\n",
      " [4 5 6]]\n",
      "y_h = [[1. 2. 3.]\n",
      " [4. 5. 6.]]\n",
      "\n",
      "[Matrix Multiplication] Your answer is [True]\n",
      "y   = [[1 4]\n",
      " [2 5]\n",
      " [3 6]]\n",
      "y_h = [[1. 4.]\n",
      " [2. 5.]\n",
      " [3. 6.]]\n",
      "\n"
     ]
    }
   ],
   "source": [
    "# 2 points\n",
    "def transpose(a):\n",
    "    r = np.zeros((a.shape[1], a.shape[0]))\n",
    "#### YOUR CODE - START ####\n",
    "    for i in range(len(a)):\n",
    "        for j in range(len(a[0])):\n",
    "            r[j][i] = a[i][j]\n",
    "#### YOUR CODE - END   ####         \n",
    "    return r\n",
    "\n",
    "# 2 points\n",
    "def mat_mul(a, b):\n",
    "    r = np.zeros((a.shape[0], b.shape[1]))\n",
    "    # print(f'a = {a.shape}, b = {b.shape}, r = {r.shape}')\n",
    "#### YOUR CODE - START ####\n",
    "    for i in range(len(a)):\n",
    "        for j in range(len(b[0])):\n",
    "            for k in range(len(a[0])):\n",
    "                r[i][j] += a[i][k] * b[k][j]\n",
    "#### YOUR CODE - END   ####\n",
    "    return r\n",
    "\n",
    "check('Matrix Traspose', mat_tr_y, transpose(a))\n",
    "\n",
    "check('Matrix Multiplication', mat_mul_y, mat_mul(a, b))"
   ]
  },
  {
   "cell_type": "markdown",
   "metadata": {},
   "source": [
    "## 2. Similarity"
   ]
  },
  {
   "cell_type": "markdown",
   "metadata": {},
   "source": [
    "* d = 300 x 5\n",
    "* 300개의 instance. 각 instance는 5개의 feature로 구성."
   ]
  },
  {
   "cell_type": "code",
   "execution_count": null,
   "metadata": {},
   "outputs": [],
   "source": [
    "# 3 points\n",
    "def get_dot_product_matrix(a):\n",
    "    r = np.zeros((a.shape[0], a.shape[0]))\n",
    "#### YOUR CODE - START ####\n",
    "\n",
    "#### YOUR CODE - END   ####\n",
    "    np.fill_diagonal(r, -10000000000)\n",
    "    return r\n",
    "\n",
    "# 3 points\n",
    "def get_cosine_matrix(a):\n",
    "    r = np.zeros((a.shape[0], a.shape[0]))\n",
    "#### YOUR CODE - START ####\n",
    "\n",
    "#### YOUR CODE - END   ####\n",
    "    np.fill_diagonal(r, -10000000000)\n",
    "    return r\n",
    "\n",
    "# 2 points\n",
    "def get_index_pair_with_max_score(a):\n",
    "    i, j = -1, -1\n",
    "#### YOUR CODE - START ####\n",
    "\n",
    "#### YOUR CODE - END   ####         \n",
    "    return (i, j)"
   ]
  },
  {
   "cell_type": "code",
   "execution_count": null,
   "metadata": {},
   "outputs": [],
   "source": [
    "max_idx_pair_y = (42, 268)\n",
    "print(f'max_index_pair={max_idx_pair_y}')\n",
    "check('Dot Product Similarties', \n",
    "      max_idx_pair_y, \n",
    "      get_index_pair_with_max_score(get_dot_product_matrix(d))\n",
    "      )\n",
    "\n",
    "\n",
    "max_idx_pair_y = (78, 186)\n",
    "print(f'max_index_pair={max_idx_pair_y}')\n",
    "check('Cosine Similarties', \n",
    "      max_idx_pair_y, \n",
    "      get_index_pair_with_max_score(get_cosine_matrix(d))\n",
    "      )\n"
   ]
  },
  {
   "cell_type": "markdown",
   "metadata": {},
   "source": [
    "## 3. Determinant"
   ]
  },
  {
   "cell_type": "code",
   "execution_count": 138,
   "metadata": {},
   "outputs": [],
   "source": [
    "# m = np.array([[8, 1, 6],\n",
    "#               [3, 5, 7],\n",
    "#               [4, 9, 2]]\n",
    "#              )\n",
    "\n",
    "m = np.array([[8, 1, 6, 2],\n",
    "              [3, 5, 7, 1],\n",
    "              [4, 9, 2, 4],\n",
    "              [1, 1, 1, 1]]\n",
    "             )\n",
    "\n",
    "det_y = np.linalg.det(m)"
   ]
  },
  {
   "cell_type": "code",
   "execution_count": 101,
   "metadata": {},
   "outputs": [
    {
     "name": "stdout",
     "output_type": "stream",
     "text": [
      "4\n",
      "[[3 5 7 1]\n",
      " [4 9 2 4]\n",
      " [1 1 1 1]]\n"
     ]
    }
   ],
   "source": [
    "k = np.array([[8, 1, 6, 2],\n",
    "              [3, 5, 7, 1],\n",
    "              [4, 9, 2, 4],\n",
    "              [1, 1, 1, 1]]\n",
    "             )\n",
    "print(len(k))\n",
    "d = np.delete(k, 0, axis=0)\n",
    "print(d)"
   ]
  },
  {
   "cell_type": "code",
   "execution_count": 139,
   "metadata": {},
   "outputs": [
    {
     "name": "stdout",
     "output_type": "stream",
     "text": [
      "[[8 1 6 2]\n",
      " [3 5 7 1]\n",
      " [4 9 2 4]\n",
      " [1 1 1 1]]\n",
      "[Determinant] Your answer is [True]\n",
      "y   = -191.99999999999983\n",
      "y_h = -192\n",
      "\n"
     ]
    }
   ],
   "source": [
    "# 4 points\n",
    "def get_determinant(m):\n",
    "    det = 0\n",
    "    \n",
    "    if len(m) < 3:\n",
    "        return m[0][0] * m[1][1] - m[0][1] * m[1][0]\n",
    "    else:\n",
    "        mat = np.delete(m,0,axis = 1)\n",
    "        for i in range(0, len(m)):\n",
    "            mat_ = np.delete(mat, i, axis = 0)\n",
    "            det += m[i][0] * get_determinant(mat_) * ((-1) ** i)\n",
    "            \n",
    "    \n",
    "    \n",
    "    return det\n",
    "\n",
    "print(m)\n",
    "check('Determinant', det_y, get_determinant(m))"
   ]
  },
  {
   "cell_type": "markdown",
   "metadata": {},
   "source": [
    "## 4. Inverse of Matrix"
   ]
  },
  {
   "cell_type": "code",
   "execution_count": null,
   "metadata": {},
   "outputs": [],
   "source": [
    "m = np.array([[8, 1, 6, 2],\n",
    "              [3, 5, 7, 1],\n",
    "              [4, 9, 2, 4],\n",
    "              [1, 1, 1, 1]]\n",
    "             )\n",
    "\n",
    "inv_y = np.linalg.inv(m)\n",
    "\n",
    "# 3 points \n",
    "def get_cofactor_matrix(m):\n",
    "    r = np.zeros(m.shape)\n",
    "#### YOUR CODE - START ####\n",
    "\n",
    "\n",
    "\n",
    "#### YOUR CODE - END   #### \n",
    "    return r\n",
    "\n",
    "# 3 points\n",
    "def get_inverse(m):\n",
    "    r = np.zeros(m.shape)\n",
    "#### YOUR CODE - START ####\n",
    "\n",
    "\n",
    "\n",
    "#### YOUR CODE - END   #### \n",
    "    return r\n",
    "\n",
    "check('Inverse', inv_y, get_inverse(m), eps=0.1)"
   ]
  },
  {
   "cell_type": "markdown",
   "metadata": {},
   "source": [
    "## 5. Transformation"
   ]
  },
  {
   "cell_type": "code",
   "execution_count": 141,
   "metadata": {},
   "outputs": [
    {
     "name": "stdout",
     "output_type": "stream",
     "text": [
      "[[0. 0.]\n",
      " [0. 0.]\n",
      " [0. 0.]]\n"
     ]
    },
    {
     "ename": "ValueError",
     "evalue": "operands could not be broadcast together with shapes (300,2) (3,2) ",
     "output_type": "error",
     "traceback": [
      "\u001b[1;31m---------------------------------------------------------------------------\u001b[0m",
      "\u001b[1;31mValueError\u001b[0m                                Traceback (most recent call last)",
      "\u001b[1;32mC:\\Users\\KOREAT~1\\AppData\\Local\\Temp/ipykernel_6220/2797859384.py\u001b[0m in \u001b[0;36m<module>\u001b[1;34m\u001b[0m\n\u001b[0;32m     20\u001b[0m \u001b[0mtrans_y\u001b[0m \u001b[1;33m=\u001b[0m \u001b[0mnp\u001b[0m\u001b[1;33m.\u001b[0m\u001b[0mload\u001b[0m\u001b[1;33m(\u001b[0m\u001b[1;34m'transform.npy'\u001b[0m\u001b[1;33m)\u001b[0m\u001b[1;33m\u001b[0m\u001b[1;33m\u001b[0m\u001b[0m\n\u001b[0;32m     21\u001b[0m \u001b[1;33m\u001b[0m\u001b[0m\n\u001b[1;32m---> 22\u001b[1;33m \u001b[0mcheck\u001b[0m\u001b[1;33m(\u001b[0m\u001b[1;34m'Transformation'\u001b[0m\u001b[1;33m,\u001b[0m \u001b[0mtrans_y\u001b[0m\u001b[1;33m,\u001b[0m \u001b[0mtrans_y_h\u001b[0m\u001b[1;33m)\u001b[0m\u001b[1;33m\u001b[0m\u001b[1;33m\u001b[0m\u001b[0m\n\u001b[0m",
      "\u001b[1;32mC:\\Users\\KOREAT~1\\AppData\\Local\\Temp/ipykernel_6220/3234350089.py\u001b[0m in \u001b[0;36mcheck\u001b[1;34m(msg, y, y_h, eps)\u001b[0m\n\u001b[0;32m     21\u001b[0m     \u001b[1;32mif\u001b[0m \u001b[0misinstance\u001b[0m\u001b[1;33m(\u001b[0m\u001b[0my\u001b[0m\u001b[1;33m,\u001b[0m \u001b[0mnp\u001b[0m\u001b[1;33m.\u001b[0m\u001b[0mndarray\u001b[0m\u001b[1;33m)\u001b[0m\u001b[1;33m:\u001b[0m\u001b[1;33m\u001b[0m\u001b[1;33m\u001b[0m\u001b[0m\n\u001b[0;32m     22\u001b[0m         \u001b[1;31m# np.array_equal(y, y_h)}\u001b[0m\u001b[1;33m\u001b[0m\u001b[1;33m\u001b[0m\u001b[0m\n\u001b[1;32m---> 23\u001b[1;33m         \u001b[0mmse\u001b[0m \u001b[1;33m=\u001b[0m \u001b[1;33m(\u001b[0m\u001b[1;33m(\u001b[0m\u001b[0my\u001b[0m \u001b[1;33m-\u001b[0m \u001b[0my_h\u001b[0m\u001b[1;33m)\u001b[0m \u001b[1;33m**\u001b[0m \u001b[1;36m2\u001b[0m\u001b[1;33m)\u001b[0m\u001b[1;33m.\u001b[0m\u001b[0mmean\u001b[0m\u001b[1;33m(\u001b[0m\u001b[1;33m)\u001b[0m\u001b[1;33m\u001b[0m\u001b[1;33m\u001b[0m\u001b[0m\n\u001b[0m\u001b[0;32m     24\u001b[0m         \u001b[0mprint\u001b[0m\u001b[1;33m(\u001b[0m\u001b[1;34mf'[{msg}] Your answer is [{mse < eps}]'\u001b[0m\u001b[1;33m)\u001b[0m\u001b[1;33m\u001b[0m\u001b[1;33m\u001b[0m\u001b[0m\n\u001b[0;32m     25\u001b[0m     \u001b[1;32melif\u001b[0m \u001b[0misinstance\u001b[0m\u001b[1;33m(\u001b[0m\u001b[0my\u001b[0m\u001b[1;33m,\u001b[0m \u001b[0mfloat\u001b[0m\u001b[1;33m)\u001b[0m\u001b[1;33m:\u001b[0m\u001b[1;33m\u001b[0m\u001b[1;33m\u001b[0m\u001b[0m\n",
      "\u001b[1;31mValueError\u001b[0m: operands could not be broadcast together with shapes (300,2) (3,2) "
     ]
    }
   ],
   "source": [
    "# If you use homogeneous coordinates, 5 points; otherwise, 3 points.\n",
    "\n",
    "def composite_transformation_1(x, theta, trans, scale) :\n",
    "    r = np.zeros_like(x, dtype=float)\n",
    "    #### YOUR CODE - START ####\n",
    "\n",
    "    \n",
    "        \n",
    "    #### YOUR CODE - END   ####\n",
    "    return r\n",
    "\n",
    "\n",
    "_d = d[:, 0:2]\n",
    "\n",
    "angle = 45\n",
    "scale = 2\n",
    "tr = (1, -1)\n",
    "\n",
    "trans_y_h = composite_transformation_1(_d, np.radians(angle), tr, scale)\n",
    "trans_y = np.load('transform.npy')\n",
    "\n",
    "check('Transformation', trans_y, trans_y_h)"
   ]
  },
  {
   "cell_type": "markdown",
   "metadata": {},
   "source": [
    "## 6. Derivatives - Optimization"
   ]
  },
  {
   "cell_type": "code",
   "execution_count": 196,
   "metadata": {},
   "outputs": [
    {
     "data": {
      "image/png": "[encoded data removed]",
      "text/plain": [
       "<Figure size 432x288 with 1 Axes>"
      ]
     },
     "metadata": {
      "needs_background": "light"
     },
     "output_type": "display_data"
    },
    {
     "name": "stdout",
     "output_type": "stream",
     "text": [
      "current Y = -429.11384565426516\n"
     ]
    }
   ],
   "source": [
    "import matplotlib.pyplot as plt\n",
    "import numpy as np\n",
    "\n",
    "def plot_single_variable_function(f,interval, point=None):\n",
    "    x_space= np.linspace(*interval,100000)\n",
    "    y_space=f(x_space)\n",
    "    plt.plot(x_space,y_space,color='blue')\n",
    "    if point != None:\n",
    "        plt.scatter(point,f(point),color='red', s=30)\n",
    "    plt.grid()\n",
    "    plt.show()\n",
    "    \n",
    "def func1(x):\n",
    "    return np.exp(x)*np.sin(x)*np.cos(x)\n",
    "\n",
    "start_point = 8\n",
    "plot_single_variable_function(func1, (5,10), start_point)\n",
    "print('current Y =', func1(start_point))"
   ]
  },
  {
   "cell_type": "code",
   "execution_count": 210,
   "metadata": {},
   "outputs": [
    {
     "name": "stdout",
     "output_type": "stream",
     "text": [
      "-3283.8786328625242\n"
     ]
    },
    {
     "data": {
      "image/png": "[encoded data removed]",
      "text/plain": [
       "<Figure size 432x288 with 1 Axes>"
      ]
     },
     "metadata": {
      "needs_background": "light"
     },
     "output_type": "display_data"
    },
    {
     "name": "stdout",
     "output_type": "stream",
     "text": [
      "[Derivatives] Your answer is [True]\n",
      "y   = -3185.882614380583\n",
      "y_h = -3185.882614383753\n",
      "\n"
     ]
    }
   ],
   "source": [
    "# If you use analytic derivative, 5 points; neumric derivative, 3 points.\n",
    "\n",
    "DELTA_X = 1e-5\n",
    "EPSILON=1e-7\n",
    "\n",
    "minimum = -3185.882614380583\n",
    "\n",
    "#### YOUR CODE - START ####\n",
    "def derivative(f, point, h=DELTA_X):\n",
    "    # gradient = 0\n",
    "    # return gradient * 0.0001\n",
    "    return (f(point+h) - f(point))/h\n",
    "\n",
    "    \n",
    "def gradient_descent(start_point):\n",
    "    la = 0.0001\n",
    "    x = start_point\n",
    "    dy_dx = derivative(func1, x)\n",
    "    print(derivative(func1, x))\n",
    "    while np.abs(dy_dx) > EPSILON:\n",
    "        # print(1)\n",
    "        x = x - dy_dx * 0.0001\n",
    "        dy_dx = derivative(func1, x)\n",
    "        \n",
    "\n",
    "        \n",
    "    return x\n",
    "#### YOUR CODE - END ####\n",
    "\n",
    "best_x = gradient_descent(start_point)\n",
    "plot_single_variable_function(func1, (5,10), best_x)\n",
    "check('Derivatives', minimum, func1(best_x))"
   ]
  },
  {
   "cell_type": "markdown",
   "metadata": {},
   "source": [
    "## 7. Partial Derivatives - Optimization"
   ]
  },
  {
   "cell_type": "code",
   "execution_count": 3,
   "metadata": {},
   "outputs": [
    {
     "ename": "NameError",
     "evalue": "name 'np' is not defined",
     "output_type": "error",
     "traceback": [
      "\u001b[1;31m---------------------------------------------------------------------------\u001b[0m",
      "\u001b[1;31mNameError\u001b[0m                                 Traceback (most recent call last)",
      "\u001b[1;32mc:\\Users\\ping3\\Downloads\\2020136016_김민석.ipynb Cell 26\u001b[0m line \u001b[0;36m1\n\u001b[0;32m     <a href='vscode-notebook-cell:/c%3A/Users/ping3/Downloads/2020136016_%EA%B9%80%EB%AF%BC%EC%84%9D.ipynb#X34sZmlsZQ%3D%3D?line=15'>16</a>\u001b[0m     \u001b[39mreturn\u001b[39;00m \u001b[39m-\u001b[39mx\u001b[39m*\u001b[39m\u001b[39m*\u001b[39m\u001b[39m4\u001b[39m\u001b[39m-\u001b[39my\u001b[39m*\u001b[39m\u001b[39m*\u001b[39m\u001b[39m4\u001b[39m\u001b[39m+\u001b[39mx\u001b[39m*\u001b[39m\u001b[39m*\u001b[39m\u001b[39m3\u001b[39m\u001b[39m+\u001b[39m\u001b[39m3\u001b[39m\u001b[39m*\u001b[39mx\u001b[39m*\u001b[39m\u001b[39m*\u001b[39m\u001b[39m2\u001b[39m\u001b[39m+\u001b[39my\u001b[39m*\u001b[39m\u001b[39m*\u001b[39m\u001b[39m2\u001b[39m\u001b[39m+\u001b[39m(x\u001b[39m*\u001b[39my)\u001b[39m*\u001b[39m\u001b[39m*\u001b[39m\u001b[39m2\u001b[39m\n\u001b[0;32m     <a href='vscode-notebook-cell:/c%3A/Users/ping3/Downloads/2020136016_%EA%B9%80%EB%AF%BC%EC%84%9D.ipynb#X34sZmlsZQ%3D%3D?line=17'>18</a>\u001b[0m start_point \u001b[39m=\u001b[39m (\u001b[39m1.0\u001b[39m,\u001b[39m1.0\u001b[39m)\n\u001b[1;32m---> <a href='vscode-notebook-cell:/c%3A/Users/ping3/Downloads/2020136016_%EA%B9%80%EB%AF%BC%EC%84%9D.ipynb#X34sZmlsZQ%3D%3D?line=18'>19</a>\u001b[0m plot_multi_variable_function(func2, (\u001b[39m-\u001b[39;49m\u001b[39m3\u001b[39;49m,\u001b[39m3\u001b[39;49m), start_point)\n\u001b[0;32m     <a href='vscode-notebook-cell:/c%3A/Users/ping3/Downloads/2020136016_%EA%B9%80%EB%AF%BC%EC%84%9D.ipynb#X34sZmlsZQ%3D%3D?line=19'>20</a>\u001b[0m \u001b[39mprint\u001b[39m(\u001b[39m'\u001b[39m\u001b[39mcurrent Z =\u001b[39m\u001b[39m'\u001b[39m, func2(start_point[\u001b[39m0\u001b[39m], start_point[\u001b[39m1\u001b[39m]))\n",
      "\u001b[1;32mc:\\Users\\ping3\\Downloads\\2020136016_김민석.ipynb Cell 26\u001b[0m line \u001b[0;36m2\n\u001b[0;32m      <a href='vscode-notebook-cell:/c%3A/Users/ping3/Downloads/2020136016_%EA%B9%80%EB%AF%BC%EC%84%9D.ipynb#X34sZmlsZQ%3D%3D?line=0'>1</a>\u001b[0m \u001b[39mdef\u001b[39;00m \u001b[39mplot_multi_variable_function\u001b[39m(f,interval, point\u001b[39m=\u001b[39m\u001b[39mNone\u001b[39;00m):\n\u001b[1;32m----> <a href='vscode-notebook-cell:/c%3A/Users/ping3/Downloads/2020136016_%EA%B9%80%EB%AF%BC%EC%84%9D.ipynb#X34sZmlsZQ%3D%3D?line=1'>2</a>\u001b[0m     x_space \u001b[39m=\u001b[39m np\u001b[39m.\u001b[39mlinspace(\u001b[39m*\u001b[39minterval, \u001b[39m100\u001b[39m)\n\u001b[0;32m      <a href='vscode-notebook-cell:/c%3A/Users/ping3/Downloads/2020136016_%EA%B9%80%EB%AF%BC%EC%84%9D.ipynb#X34sZmlsZQ%3D%3D?line=2'>3</a>\u001b[0m     y_space \u001b[39m=\u001b[39m np\u001b[39m.\u001b[39mlinspace(\u001b[39m*\u001b[39minterval, \u001b[39m100\u001b[39m)\n\u001b[0;32m      <a href='vscode-notebook-cell:/c%3A/Users/ping3/Downloads/2020136016_%EA%B9%80%EB%AF%BC%EC%84%9D.ipynb#X34sZmlsZQ%3D%3D?line=3'>4</a>\u001b[0m     X, Y \u001b[39m=\u001b[39m np\u001b[39m.\u001b[39mmeshgrid(x_space, y_space)\n",
      "\u001b[1;31mNameError\u001b[0m: name 'np' is not defined"
     ]
    }
   ],
   "source": [
    "def plot_multi_variable_function(f,interval, point=None):\n",
    "    x_space = np.linspace(*interval, 100)\n",
    "    y_space = np.linspace(*interval, 100)\n",
    "    X, Y = np.meshgrid(x_space, y_space)\n",
    "    Z = f(X, Y)\n",
    "    \n",
    "    fig = plt.figure(figsize=(12, 6))   \n",
    "    ax1 = fig.add_subplot(111, projection='3d')\n",
    "    ax1.plot_surface(X, Y, Z, cmap='viridis', alpha=0.7)\n",
    "    if point != None:\n",
    "        ax1.scatter(point[0], point[1], f(point[0], point[1]), marker='s', color='black', s=10)\n",
    "    plt.grid()\n",
    "    plt.show()\n",
    "    \n",
    "def func2(x,y):\n",
    "    return -x**4-y**4+x**3+3*x**2+y**2+(x*y)**2\n",
    "\n",
    "start_point = (1.0,1.0)\n",
    "plot_multi_variable_function(func2, (-3,3), start_point)\n",
    "print('current Z =', func2(start_point[0], start_point[1]))"
   ]
  },
  {
   "cell_type": "code",
   "execution_count": 1,
   "metadata": {},
   "outputs": [
    {
     "ename": "NameError",
     "evalue": "name 'start_point' is not defined",
     "output_type": "error",
     "traceback": [
      "\u001b[1;31m---------------------------------------------------------------------------\u001b[0m",
      "\u001b[1;31mNameError\u001b[0m                                 Traceback (most recent call last)",
      "\u001b[1;32mc:\\Users\\ping3\\Downloads\\2020136016_김민석.ipynb Cell 27\u001b[0m line \u001b[0;36m3\n\u001b[0;32m     <a href='vscode-notebook-cell:/c%3A/Users/ping3/Downloads/2020136016_%EA%B9%80%EB%AF%BC%EC%84%9D.ipynb#X35sZmlsZQ%3D%3D?line=32'>33</a>\u001b[0m     \u001b[39mreturn\u001b[39;00m xy\n\u001b[0;32m     <a href='vscode-notebook-cell:/c%3A/Users/ping3/Downloads/2020136016_%EA%B9%80%EB%AF%BC%EC%84%9D.ipynb#X35sZmlsZQ%3D%3D?line=33'>34</a>\u001b[0m \u001b[39m#### YOUR CODE - END ####\u001b[39;00m\n\u001b[1;32m---> <a href='vscode-notebook-cell:/c%3A/Users/ping3/Downloads/2020136016_%EA%B9%80%EB%AF%BC%EC%84%9D.ipynb#X35sZmlsZQ%3D%3D?line=35'>36</a>\u001b[0m best_xy \u001b[39m=\u001b[39m gradient_ascent(start_point)\n\u001b[0;32m     <a href='vscode-notebook-cell:/c%3A/Users/ping3/Downloads/2020136016_%EA%B9%80%EB%AF%BC%EC%84%9D.ipynb#X35sZmlsZQ%3D%3D?line=36'>37</a>\u001b[0m plot_multi_variable_function(func2, (\u001b[39m-\u001b[39m\u001b[39m3\u001b[39m,\u001b[39m3\u001b[39m), best_xy)\n\u001b[0;32m     <a href='vscode-notebook-cell:/c%3A/Users/ping3/Downloads/2020136016_%EA%B9%80%EB%AF%BC%EC%84%9D.ipynb#X35sZmlsZQ%3D%3D?line=37'>38</a>\u001b[0m check(\u001b[39m'\u001b[39m\u001b[39mDerivatives\u001b[39m\u001b[39m'\u001b[39m, minimum, func2(best_xy[\u001b[39m0\u001b[39m], best_xy[\u001b[39m1\u001b[39m]))\n",
      "\u001b[1;31mNameError\u001b[0m: name 'start_point' is not defined"
     ]
    }
   ],
   "source": [
    "DELTA_X = 1e-5\n",
    "EPSILON=1e-7\n",
    "\n",
    "minimum = 10.36046074289994\n",
    "\n",
    "#### YOUR CODE - START ####\n",
    "def partial_derivative(f, point, h=DELTA_X):\n",
    "    df_dx = 0.0\n",
    "    df_dy = 0.0\n",
    "    df_dx = (func2(point[0] + h, point[1]) - func2(point[0], point[1])) / h\n",
    "    df_dx = (func2(point[0], point[1] + h)-func2(point[0], point[1])) / h\n",
    "    # print(f(point[0],point[1]))\n",
    "    # print(df_dx)\n",
    "    return df_dx*1.0, df_dy* 1.0\n",
    "    \n",
    "def gradient_ascent(start_point):\n",
    "    xy = start_point\n",
    "    # x = float(start_point[0])\n",
    "    # y = float(start_point[1])\n",
    "    # print(start_point)\n",
    "    # df_dx, df_dy = partial_derivative(func2, start_point, h=DELTA_X)\n",
    "    # print(partial_derivative(func2, xy, h=DELTA_X))\n",
    "    x = 1.0\n",
    "    y = 1.0\n",
    "    df_dx, df_dy = partial_derivative(func2, (1.0,1.0), h=DELTA_X)\n",
    "    while np.abs(df_dx) > EPSILON or np.abs(df_dy) > EPSILON:\n",
    "        x += df_dx * 0.001\n",
    "        y += df_dy * 0.001\n",
    "        # print(df_dx, df_dy)\n",
    "        df_dx, df_dy = partial_derivative(func2, xy, h=DELTA_X)\n",
    "        \n",
    "        xy = (x,y)\n",
    "    return xy\n",
    "#### YOUR CODE - END ####\n",
    "\n",
    "best_xy = gradient_ascent(start_point)\n",
    "plot_multi_variable_function(func2, (-3,3), best_xy)\n",
    "check('Derivatives', minimum, func2(best_xy[0], best_xy[1]))"
   ]
  }
 ],
 "metadata": {
  "kernelspec": {
   "display_name": "base",
   "language": "python",
   "name": "python3"
  },
  "language_info": {
   "codemirror_mode": {
    "name": "ipython",
    "version": 3
   },
   "file_extension": ".py",
   "mimetype": "text/x-python",
   "name": "python",
   "nbconvert_exporter": "python",
   "pygments_lexer": "ipython3",
   "version": "3.11.6"
  }
 },
 "nbformat": 4,
 "nbformat_minor": 2
}
