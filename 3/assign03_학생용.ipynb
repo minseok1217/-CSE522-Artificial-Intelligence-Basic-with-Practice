{
  "cells": [
    {
      "cell_type": "markdown",
      "metadata": {},
      "source": [
        "# 실습 1. Determinant"
      ]
    },
    {
      "cell_type": "code",
      "execution_count": null,
      "metadata": {},
      "outputs": [],
      "source": [
        "# 아래의 함수를 완성하시오.\n",
        "def determinant(matrix):\n",
        "    pass\n",
        "\n",
        "# 교재에 있는 matrix\n",
        "matrix_1 = [\n",
        "    [8, 1, 6],\n",
        "    [3, 5, 7],\n",
        "    [4, 9, 2]\n",
        "] \n",
        "# test할 matrix\n",
        "matrix_2 = [\n",
        "    [8, 1, 6, 1],\n",
        "    [3, 5, 7, 2],\n",
        "    [4, 9, 2, 5],\n",
        "    [3, 5, 7, 1]\n",
        "]\n",
        "\n",
        "det = determinant(matrix_2)\n",
        "print(\"Determinant of the matrix:\", det)"
      ]
    },
    {
      "cell_type": "markdown",
      "metadata": {},
      "source": [
        "# 실습 2. transformation"
      ]
    },
    {
      "cell_type": "code",
      "execution_count": null,
      "metadata": {},
      "outputs": [],
      "source": [
        "import cv2\n",
        "import matplotlib.pyplot as plt \n",
        "import numpy as np\n",
        "\n",
        "gray_cat = cv2.imread('cat.jpg', cv2.IMREAD_GRAYSCALE)\n",
        "print('shape of gray_cat: ', gray_cat.shape)\n",
        "print(gray_cat)\n",
        "plt.imshow(gray_cat, cmap='gray')\n",
        "plt.show()"
      ]
    },
    {
      "cell_type": "code",
      "execution_count": null,
      "metadata": {},
      "outputs": [],
      "source": [
        "# 아래의 함수를 완성하시오.\n",
        "def rotate_image(image, theta):\n",
        "    pass"
      ]
    },
    {
      "cell_type": "code",
      "execution_count": null,
      "metadata": {},
      "outputs": [],
      "source": [
        "angle = 45\n",
        "\n",
        "rotated_img = rotate_image(gray_cat, np.radians(angle))\n",
        "plt.imshow(rotated_img, cmap='gray')\n",
        "plt.show()"
      ]
    },
    {
      "cell_type": "markdown",
      "metadata": {},
      "source": [
        "# 심화 문제. composite_transformation"
      ]
    },
    {
      "cell_type": "code",
      "execution_count": null,
      "metadata": {},
      "outputs": [],
      "source": [
        "# 아래의 함수를 완성하시오.\n",
        "def composite_transformation(image, theta, translation) :\n",
        "    pass"
      ]
    },
    {
      "cell_type": "code",
      "execution_count": null,
      "metadata": {},
      "outputs": [],
      "source": [
        "angle = 45\n",
        "t1, t2 = 100, 100 # 우상단으로 이동\n",
        "\n",
        "new_image = composite_transformation(gray_cat, np.radians(angle), (t1, t2))\n",
        "plt.imshow(new_image, cmap='gray')\n",
        "plt.show()"
      ]
    }
  ],
  "metadata": {
    "colab": {
      "provenance": []
    },
    "kernelspec": {
      "display_name": "ml",
      "language": "python",
      "name": "python3"
    },
    "language_info": {
      "codemirror_mode": {
        "name": "ipython",
        "version": 3
      },
      "file_extension": ".py",
      "mimetype": "text/x-python",
      "name": "python",
      "nbconvert_exporter": "python",
      "pygments_lexer": "ipython3",
      "version": "3.9.17"
    },
    "vscode": {
      "interpreter": {
        "hash": "ac989702ee82cf85834fc904c407af640e06b0902e988e9cd8a067d885b3b790"
      }
    }
  },
  "nbformat": 4,
  "nbformat_minor": 0
}
